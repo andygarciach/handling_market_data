{
 "cells": [
  {
   "cell_type": "code",
   "execution_count": 1,
   "id": "d45a0482-a77e-46c6-b85a-26b55669c014",
   "metadata": {},
   "outputs": [],
   "source": [
    "from pyspark.sql import SparkSession\n",
    "from pyspark.sql.functions import *\n",
    "from pyspark.sql.types import StructType, StructField, IntegerType, StringType, DateType, DoubleType\n",
    "from utils import Utils\n",
    "from utils.Utils import Transformer\n",
    "from utils.spark_utils import Spark_utils\n",
    "import logging"
   ]
  },
  {
   "cell_type": "code",
   "execution_count": 2,
   "id": "838aff5e-28af-4116-8759-a720b26e0e64",
   "metadata": {},
   "outputs": [
    {
     "name": "stdout",
     "output_type": "stream",
     "text": [
      "Environment:  DEV\n",
      "24/08/06 10:10:33 WARN Utils: Your hostname, EPCOBOGW1343 resolves to a loopback address: 127.0.1.1; using 10.255.255.254 instead (on interface lo)\n",
      "24/08/06 10:10:33 WARN Utils: Set SPARK_LOCAL_IP if you need to bind to another address\n"
     ]
    },
    {
     "name": "stderr",
     "output_type": "stream",
     "text": [
      "Setting default log level to \"WARN\".\n",
      "To adjust logging level use sc.setLogLevel(newLevel). For SparkR, use setLogLevel(newLevel).\n"
     ]
    },
    {
     "name": "stdout",
     "output_type": "stream",
     "text": [
      "24/08/06 10:10:34 WARN NativeCodeLoader: Unable to load native-hadoop library for your platform... using builtin-java classes where applicable\n"
     ]
    }
   ],
   "source": [
    "## Settings variables for log handling and Spark Session\n",
    "spark = None\n",
    "logging.basicConfig(level=logging.INFO)\n",
    "logger = logging.getLogger(__name__)\n",
    "\n",
    "## Spark_utils object to enable SparkSession\n",
    "spark_util = Spark_utils(\"DEV\", \"Meli_Pipeline\")\n",
    "spark_util.set_spark_session()\n",
    "spark = spark_util.get_spark_session()"
   ]
  },
  {
   "cell_type": "code",
   "execution_count": 3,
   "id": "f8809778-666d-41d9-afb4-6d1356d87fb2",
   "metadata": {},
   "outputs": [
    {
     "name": "stderr",
     "output_type": "stream",
     "text": [
      "INFO:__main__:Reading Data Sources from Local Storage...\n",
      "INFO:__main__:Defining prints.json schema ...\n",
      "INFO:__main__:Read prints.json with as dataset with proper schema\n",
      "INFO:__main__:Prints's dataframe schema...\n"
     ]
    },
    {
     "name": "stdout",
     "output_type": "stream",
     "text": [
      "root\n",
      " |-- day: date (nullable = true)\n",
      " |-- event_data: struct (nullable = true)\n",
      " |    |-- position: integer (nullable = true)\n",
      " |    |-- value_prop: string (nullable = true)\n",
      " |-- user_id: integer (nullable = true)\n",
      "\n"
     ]
    }
   ],
   "source": [
    "## Iniaiting data reads from original source to Dataframe\n",
    "logger.info(\"Reading Data Sources from Local Storage...\")\n",
    "\n",
    "logger.info(\"Defining prints.json schema ...\")\n",
    "prints_schema = StructType([\n",
    "StructField(\"day\", DateType(), True),\n",
    "StructField(\"event_data\", StructType([\n",
    "    StructField(\"position\", IntegerType(), True),\n",
    "    StructField(\"value_prop\", StringType(), True)\n",
    "]), True),\n",
    "StructField(\"user_id\", IntegerType(), True)\n",
    "])\n",
    "\n",
    "## Reading \"prints.json\" data to dataframe\n",
    "logger.info(\"Read prints.json with as dataset with proper schema\")\n",
    "df_prints = spark.read.json(\"data_sources/prints.json\", schema=prints_schema)\n",
    "\n",
    "logger.info(\"Prints's dataframe schema...\")\n",
    "df_prints.printSchema()"
   ]
  },
  {
   "cell_type": "code",
   "execution_count": 4,
   "id": "803a4577-cbc6-4ef8-a3aa-7c35266c4c1f",
   "metadata": {},
   "outputs": [
    {
     "name": "stderr",
     "output_type": "stream",
     "text": [
      "INFO:__main__:3 New Datasets were created\n"
     ]
    }
   ],
   "source": [
    "## Reading \"taps.json\" data to dataframe\n",
    "\n",
    "taps_schema = StructType([\n",
    "StructField(\"day\", DateType(), True),\n",
    "StructField(\"event_data\", StructType([\n",
    "    StructField(\"position\", IntegerType(), True),\n",
    "    StructField(\"value_prop\", StringType(), True)\n",
    "]), True),\n",
    "StructField(\"user_id\", IntegerType(), True)\n",
    "])\n",
    "    \n",
    "df_taps = spark.read.json(\"data_sources/taps.json\", schema = taps_schema)\n",
    "\n",
    "## Reading \"prints.json\" data to dataframe\n",
    "\n",
    "pays_schema = StructType([\n",
    "StructField(\"pay_date\", DateType(), True),\n",
    "StructField(\"total\", DoubleType(), True),\n",
    "StructField(\"user_id\", IntegerType(), True),\n",
    "StructField(\"value_prop\", StringType(), True)\n",
    "])\n",
    "    \n",
    "df_pays = spark.read.option(\"header\",\"True\").csv(\"data_sources/pays.csv\", schema = pays_schema)\n",
    "logger.info(\"3 New Datasets were created\")"
   ]
  },
  {
   "cell_type": "code",
   "execution_count": 5,
   "id": "b44d2308-7900-4582-9510-5b7feb3a3fc6",
   "metadata": {},
   "outputs": [
    {
     "name": "stderr",
     "output_type": "stream",
     "text": [
      "INFO:__main__:Calculating week of year for column day in prints\n",
      "INFO:__main__:Calculating Rank for column week_of_year in prints\n",
      "INFO:__main__:Calculating Row_Number for column week_of_year in prints\n",
      "INFO:__main__:Showing processed data for Prints\n"
     ]
    },
    {
     "name": "stdout",
     "output_type": "stream",
     "text": [
      "root\n",
      " |-- day: date (nullable = true)\n",
      " |-- event_data: struct (nullable = true)\n",
      " |    |-- position: integer (nullable = true)\n",
      " |    |-- value_prop: string (nullable = true)\n",
      " |-- user_id: integer (nullable = true)\n",
      " |-- week_of_year: integer (nullable = true)\n",
      "\n",
      "root\n",
      " |-- day: date (nullable = true)\n",
      " |-- event_data: struct (nullable = true)\n",
      " |    |-- position: integer (nullable = true)\n",
      " |    |-- value_prop: string (nullable = true)\n",
      " |-- user_id: integer (nullable = true)\n",
      " |-- week_of_year: integer (nullable = true)\n",
      "\n"
     ]
    },
    {
     "name": "stderr",
     "output_type": "stream",
     "text": [
      "INFO:__main__:Calculating week of year for column day in taps                   \n",
      "INFO:__main__:Calculating Rank for column week_of_year in taps\n",
      "INFO:__main__:Calculating Row_Number for column week_of_year in prints\n",
      "INFO:__main__:Showing processed data for Prints\n"
     ]
    },
    {
     "name": "stdout",
     "output_type": "stream",
     "text": [
      "+----------+-----------------------+-------+------------+\n",
      "|day       |event_data             |user_id|week_of_year|\n",
      "+----------+-----------------------+-------+------------+\n",
      "|2020-11-01|{0, cellphone_recharge}|98702  |44          |\n",
      "|2020-11-01|{1, prepaid}           |98702  |44          |\n",
      "|2020-11-01|{0, prepaid}           |63252  |44          |\n",
      "|2020-11-01|{0, cellphone_recharge}|24728  |44          |\n",
      "|2020-11-01|{1, link_cobro}        |24728  |44          |\n",
      "|2020-11-01|{2, credits_consumer}  |24728  |44          |\n",
      "|2020-11-01|{3, point}             |24728  |44          |\n",
      "|2020-11-01|{0, point}             |25517  |44          |\n",
      "|2020-11-01|{1, credits_consumer}  |25517  |44          |\n",
      "|2020-11-01|{2, transport}         |25517  |44          |\n",
      "|2020-11-01|{0, point}             |57587  |44          |\n",
      "|2020-11-01|{0, transport}         |13609  |44          |\n",
      "|2020-11-01|{0, cellphone_recharge}|3708   |44          |\n",
      "|2020-11-01|{1, prepaid}           |3708   |44          |\n",
      "|2020-11-01|{2, point}             |3708   |44          |\n",
      "|2020-11-01|{3, send_money}        |3708   |44          |\n",
      "|2020-11-01|{0, send_money}        |99571  |44          |\n",
      "|2020-11-01|{1, point}             |99571  |44          |\n",
      "|2020-11-01|{2, link_cobro}        |99571  |44          |\n",
      "|2020-11-01|{0, prepaid}           |53823  |44          |\n",
      "+----------+-----------------------+-------+------------+\n",
      "only showing top 20 rows\n",
      "\n",
      "root\n",
      " |-- day: date (nullable = true)\n",
      " |-- event_data: struct (nullable = true)\n",
      " |    |-- position: integer (nullable = true)\n",
      " |    |-- value_prop: string (nullable = true)\n",
      " |-- user_id: integer (nullable = true)\n",
      " |-- week_of_year: integer (nullable = true)\n",
      "\n",
      "root\n",
      " |-- day: date (nullable = true)\n",
      " |-- event_data: struct (nullable = true)\n",
      " |    |-- position: integer (nullable = true)\n",
      " |    |-- value_prop: string (nullable = true)\n",
      " |-- user_id: integer (nullable = true)\n",
      " |-- week_of_year: integer (nullable = true)\n",
      "\n"
     ]
    },
    {
     "name": "stderr",
     "output_type": "stream",
     "text": [
      "INFO:__main__:Calculating week of year for column day in pays\n",
      "INFO:__main__:Calculating Rank for column week_of_year in pays\n",
      "INFO:__main__:Calculating Row_Number for column week_of_year in prints\n",
      "INFO:__main__:Showing processed data for Prints\n"
     ]
    },
    {
     "name": "stdout",
     "output_type": "stream",
     "text": [
      "+----------+-----------------------+-------+------------+\n",
      "|day       |event_data             |user_id|week_of_year|\n",
      "+----------+-----------------------+-------+------------+\n",
      "|2020-11-01|{0, cellphone_recharge}|98702  |44          |\n",
      "|2020-11-01|{2, point}             |3708   |44          |\n",
      "|2020-11-01|{3, send_money}        |3708   |44          |\n",
      "|2020-11-01|{0, transport}         |93963  |44          |\n",
      "|2020-11-01|{1, cellphone_recharge}|93963  |44          |\n",
      "|2020-11-01|{0, link_cobro}        |94945  |44          |\n",
      "|2020-11-01|{1, cellphone_recharge}|94945  |44          |\n",
      "|2020-11-01|{2, prepaid}           |89026  |44          |\n",
      "|2020-11-01|{0, link_cobro}        |7616   |44          |\n",
      "|2020-11-01|{0, link_cobro}        |63471  |44          |\n",
      "|2020-11-01|{1, send_money}        |98277  |44          |\n",
      "|2020-11-01|{2, cellphone_recharge}|83634  |44          |\n",
      "|2020-11-01|{0, cellphone_recharge}|2367   |44          |\n",
      "|2020-11-01|{0, credits_consumer}  |14472  |44          |\n",
      "|2020-11-01|{2, send_money}        |88316  |44          |\n",
      "|2020-11-01|{0, credits_consumer}  |40910  |44          |\n",
      "|2020-11-01|{0, cellphone_recharge}|412    |44          |\n",
      "|2020-11-01|{1, prepaid}           |76198  |44          |\n",
      "|2020-11-01|{3, transport}         |52715  |44          |\n",
      "|2020-11-01|{2, credits_consumer}  |9294   |44          |\n",
      "+----------+-----------------------+-------+------------+\n",
      "only showing top 20 rows\n",
      "\n",
      "root\n",
      " |-- pay_date: date (nullable = true)\n",
      " |-- total: double (nullable = true)\n",
      " |-- user_id: integer (nullable = true)\n",
      " |-- value_prop: string (nullable = true)\n",
      " |-- week_of_year: integer (nullable = true)\n",
      "\n",
      "+----------+------+-------+------------------+------------+\n",
      "|pay_date  |total |user_id|value_prop        |week_of_year|\n",
      "+----------+------+-------+------------------+------------+\n",
      "|2020-11-01|7.04  |35994  |link_cobro        |44          |\n",
      "|2020-11-01|37.36 |79066  |cellphone_recharge|44          |\n",
      "|2020-11-01|15.84 |19321  |cellphone_recharge|44          |\n",
      "|2020-11-01|26.26 |19321  |send_money        |44          |\n",
      "|2020-11-01|35.35 |38438  |send_money        |44          |\n",
      "|2020-11-01|20.95 |85939  |transport         |44          |\n",
      "|2020-11-01|74.48 |14372  |prepaid           |44          |\n",
      "|2020-11-01|31.52 |14372  |link_cobro        |44          |\n",
      "|2020-11-01|83.76 |65274  |transport         |44          |\n",
      "|2020-11-01|93.54 |65274  |prepaid           |44          |\n",
      "|2020-11-01|37.84 |97428  |link_cobro        |44          |\n",
      "|2020-11-01|26.77 |82163  |link_cobro        |44          |\n",
      "|2020-11-01|92.56 |9816   |send_money        |44          |\n",
      "|2020-11-01|122.03|9816   |prepaid           |44          |\n",
      "|2020-11-01|83.66 |28929  |prepaid           |44          |\n",
      "|2020-11-01|136.78|97275  |link_cobro        |44          |\n",
      "|2020-11-01|17.34 |85001  |cellphone_recharge|44          |\n",
      "|2020-11-01|41.93 |85001  |link_cobro        |44          |\n",
      "|2020-11-01|31.38 |42     |send_money        |44          |\n",
      "|2020-11-01|39.28 |42     |transport         |44          |\n",
      "+----------+------+-------+------------------+------------+\n",
      "only showing top 20 rows\n",
      "\n"
     ]
    }
   ],
   "source": [
    "#################### Processing df_prints DataFrame ##########################\n",
    "\n",
    "logger.info(\"Calculating week of year for column day in prints\")\n",
    "df_prints = Transformer.calcWeekOfTheYear(df_prints, \"day\", \"week_of_year\")\n",
    "\n",
    "df_prints.printSchema()\n",
    "\n",
    "logger.info(\"Calculating Rank for column week_of_year in prints\")\n",
    "##df_prints = Transformer.calcRank(df_prints, ['user_id'], ['week_of_year'], \"rank_num\", \"desc\")\n",
    "\n",
    "logger.info(\"Calculating Row_Number for column week_of_year in prints\")\n",
    "##df_prints = Transformer.calcRowNumber(df_prints, ['user_id','week_of_year'], ['week_of_year'], \"row_num\", \"desc\")\n",
    "    \n",
    "df_prints.printSchema()\n",
    "\n",
    "logger.info(\"Showing processed data for Prints\")\n",
    "df_prints.show(truncate = False)\n",
    "##df_prints.show(10, truncate = False)\n",
    "\n",
    "#################### Processing df_taps DataFrame ##########################\n",
    "\n",
    "logger.info(\"Calculating week of year for column day in taps\")\n",
    "df_taps = Transformer.calcWeekOfTheYear(df_taps, \"day\", \"week_of_year\")\n",
    "\n",
    "df_taps.printSchema()\n",
    "\n",
    "logger.info(\"Calculating Rank for column week_of_year in taps\")\n",
    "##df_taps = Transformer.calcRank(df_taps, ['user_id'], ['week_of_year'], \"rank_num\", \"desc\")\n",
    "\n",
    "logger.info(\"Calculating Row_Number for column week_of_year in prints\")\n",
    "##df_taps = Transformer.calcRowNumber(df_taps, ['user_id','week_of_year'], ['week_of_year'], \"row_num\", \"desc\")\n",
    "    \n",
    "df_taps.printSchema()\n",
    "\n",
    "logger.info(\"Showing processed data for Prints\")\n",
    "df_taps.show(truncate = False)\n",
    "##df_prints.show(10, truncate = False)\n",
    "\n",
    "#################### Processing df_pays DataFrame ##########################\n",
    "\n",
    "logger.info(\"Calculating week of year for column day in pays\")\n",
    "df_pays = Transformer.calcWeekOfTheYear(df_pays, \"pay_date\", \"week_of_year\")\n",
    "\n",
    "df_pays.printSchema()\n",
    "\n",
    "logger.info(\"Calculating Rank for column week_of_year in pays\")\n",
    "##df_pays = Transformer.calcRank(df_pays, ['user_id'], ['week_of_year'], \"rank_num\", \"desc\")\n",
    "\n",
    "logger.info(\"Calculating Row_Number for column week_of_year in prints\")\n",
    "##df_pays = Transformer.calcRowNumber(df_pays, ['user_id','week_of_year'], ['week_of_year'], \"row_num\", \"desc\")\n",
    "    \n",
    "##df_pays.printSchema()\n",
    "\n",
    "logger.info(\"Showing processed data for Prints\")\n",
    "df_pays.show(truncate = False)\n",
    "##df_prints.show(10, truncate = False)"
   ]
  },
  {
   "cell_type": "code",
   "execution_count": 6,
   "id": "b636ea34-7dc5-4799-b2d1-931fb5753584",
   "metadata": {},
   "outputs": [
    {
     "name": "stderr",
     "output_type": "stream",
     "text": [
      "                                                                                \r"
     ]
    },
    {
     "data": {
      "text/plain": [
       "508617"
      ]
     },
     "execution_count": 6,
     "metadata": {},
     "output_type": "execute_result"
    }
   ],
   "source": [
    "df_prints.count()"
   ]
  },
  {
   "cell_type": "code",
   "execution_count": 7,
   "id": "0429ce84-837f-404f-8526-f0378960a225",
   "metadata": {},
   "outputs": [
    {
     "data": {
      "text/plain": [
       "50859"
      ]
     },
     "execution_count": 7,
     "metadata": {},
     "output_type": "execute_result"
    }
   ],
   "source": [
    "df_taps.count()"
   ]
  },
  {
   "cell_type": "code",
   "execution_count": 8,
   "id": "399a1fbe-5d08-4181-9079-af993cf2bf37",
   "metadata": {},
   "outputs": [
    {
     "data": {
      "text/plain": [
       "756483"
      ]
     },
     "execution_count": 8,
     "metadata": {},
     "output_type": "execute_result"
    }
   ],
   "source": [
    "df_pays.count()"
   ]
  },
  {
   "cell_type": "code",
   "execution_count": 9,
   "id": "7159c0d6-61b9-4840-95a0-ec4b4a5c8b1f",
   "metadata": {},
   "outputs": [],
   "source": [
    "df_prints.createOrReplaceTempView(\"prints\")\n",
    "df_taps.createOrReplaceTempView(\"taps\")\n",
    "df_pays.createOrReplaceTempView(\"pays\")"
   ]
  },
  {
   "cell_type": "code",
   "execution_count": 10,
   "id": "ef53c84b-7de3-4d75-afca-704a0bb79e0c",
   "metadata": {},
   "outputs": [
    {
     "name": "stderr",
     "output_type": "stream",
     "text": [
      "[Stage 12:>                                                         (0 + 1) / 1]\r"
     ]
    },
    {
     "name": "stdout",
     "output_type": "stream",
     "text": [
      "+-------+---+-----------------+-----------------+\n",
      "|user_id|q  |min(week_of_year)|max(week_of_year)|\n",
      "+-------+---+-----------------+-----------------+\n",
      "|35156  |27 |44               |48               |\n",
      "|9704   |27 |45               |49               |\n",
      "|61554  |26 |44               |47               |\n",
      "|88770  |26 |44               |47               |\n",
      "|30781  |25 |45               |48               |\n",
      "|51870  |25 |45               |48               |\n",
      "|5352   |25 |45               |48               |\n",
      "|48782  |25 |45               |48               |\n",
      "|64536  |24 |45               |48               |\n",
      "|38850  |24 |45               |48               |\n",
      "|33842  |24 |45               |48               |\n",
      "|56578  |24 |44               |49               |\n",
      "|59876  |24 |45               |48               |\n",
      "|65036  |24 |45               |49               |\n",
      "|41940  |24 |44               |48               |\n",
      "|88191  |24 |45               |48               |\n",
      "|20457  |24 |45               |48               |\n",
      "|50813  |24 |46               |48               |\n",
      "|95769  |24 |45               |48               |\n",
      "|19656  |24 |45               |49               |\n",
      "+-------+---+-----------------+-----------------+\n",
      "only showing top 20 rows\n",
      "\n"
     ]
    },
    {
     "name": "stderr",
     "output_type": "stream",
     "text": [
      "                                                                                \r"
     ]
    }
   ],
   "source": [
    "spark.sql(\"\"\"\n",
    "select user_id,\n",
    "count(1) q ,\n",
    "min(week_of_year),\n",
    "max(week_of_year)\n",
    "from prints\n",
    "group by user_id\n",
    "order by q desc\n",
    "\"\"\").show(truncate = False)"
   ]
  },
  {
   "cell_type": "code",
   "execution_count": 11,
   "id": "8e963e99-3b9c-4377-982e-42c3e26c7040",
   "metadata": {},
   "outputs": [
    {
     "name": "stderr",
     "output_type": "stream",
     "text": [
      "[Stage 15:>                                                         (0 + 1) / 1]\r"
     ]
    },
    {
     "name": "stdout",
     "output_type": "stream",
     "text": [
      "+------+-----------------+-----------------+-----------------+\n",
      "|q     |min(week_of_year)|avg(week_of_year)|max(week_of_year)|\n",
      "+------+-----------------+-----------------+-----------------+\n",
      "|508617|44               |46.46289447659044|49               |\n",
      "+------+-----------------+-----------------+-----------------+\n",
      "\n"
     ]
    },
    {
     "name": "stderr",
     "output_type": "stream",
     "text": [
      "                                                                                \r"
     ]
    }
   ],
   "source": [
    "spark.sql(\"\"\"\n",
    "select count(1) q ,\n",
    "min(week_of_year),\n",
    "avg(week_of_year),\n",
    "max(week_of_year)\n",
    "from prints\n",
    "order by q desc\n",
    "\"\"\").show(truncate = False)"
   ]
  },
  {
   "cell_type": "code",
   "execution_count": 12,
   "id": "2cd10cd6-4f6d-4e6f-833a-a133da9d0b76",
   "metadata": {},
   "outputs": [
    {
     "name": "stderr",
     "output_type": "stream",
     "text": [
      "[Stage 18:>                                                         (0 + 1) / 1]\r"
     ]
    },
    {
     "name": "stdout",
     "output_type": "stream",
     "text": [
      "+----------+-----------------------+-------+------------+----+\n",
      "|day       |event_data             |user_id|week_of_year|rown|\n",
      "+----------+-----------------------+-------+------------+----+\n",
      "|2020-11-30|{0, transport}         |1      |49          |1   |\n",
      "|2020-11-30|{1, point}             |1      |49          |1   |\n",
      "|2020-11-30|{2, cellphone_recharge}|1      |49          |1   |\n",
      "|2020-11-30|{3, link_cobro}        |1      |49          |1   |\n",
      "|2020-11-23|{0, send_money}        |1      |48          |5   |\n",
      "|2020-11-23|{1, transport}         |1      |48          |5   |\n",
      "|2020-11-23|{2, cellphone_recharge}|1      |48          |5   |\n",
      "|2020-11-17|{0, transport}         |1      |47          |8   |\n",
      "|2020-11-17|{1, point}             |1      |47          |8   |\n",
      "|2020-11-12|{0, link_cobro}        |1      |46          |10  |\n",
      "|2020-11-14|{0, link_cobro}        |1      |46          |10  |\n",
      "|2020-11-14|{1, prepaid}           |1      |46          |10  |\n",
      "|2020-11-14|{2, credits_consumer}  |1      |46          |10  |\n",
      "|2020-11-03|{0, send_money}        |1      |45          |14  |\n",
      "|2020-11-03|{1, link_cobro}        |1      |45          |14  |\n",
      "|2020-11-03|{2, transport}         |1      |45          |14  |\n",
      "|2020-11-03|{3, credits_consumer}  |1      |45          |14  |\n",
      "+----------+-----------------------+-------+------------+----+\n",
      "\n"
     ]
    },
    {
     "name": "stderr",
     "output_type": "stream",
     "text": [
      "                                                                                \r"
     ]
    }
   ],
   "source": [
    "spark.sql(\"\"\"\n",
    "select x.*\n",
    "from\n",
    "(select * ,\n",
    "rank() over (partition by user_id order by week_of_year desc) rown\n",
    "from prints\n",
    "where user_id = 1) x\n",
    "\"\"\").show(truncate = False)"
   ]
  },
  {
   "cell_type": "code",
   "execution_count": 13,
   "id": "a2893a2d-5001-4ac1-9b2e-e1e25adb8a76",
   "metadata": {},
   "outputs": [
    {
     "name": "stderr",
     "output_type": "stream",
     "text": [
      "[Stage 21:>                                                         (0 + 1) / 1]\r"
     ]
    },
    {
     "name": "stdout",
     "output_type": "stream",
     "text": [
      "+-------+------------+---+\n",
      "|user_id|week_of_year|q  |\n",
      "+-------+------------+---+\n",
      "|1      |49          |4  |\n",
      "|1      |48          |3  |\n",
      "|1      |47          |2  |\n",
      "|1      |46          |4  |\n",
      "|1      |45          |4  |\n",
      "|2      |48          |3  |\n",
      "|2      |45          |2  |\n",
      "|3      |48          |3  |\n",
      "|3      |47          |3  |\n",
      "|4      |49          |2  |\n",
      "|4      |47          |4  |\n",
      "|4      |45          |3  |\n",
      "|5      |47          |2  |\n",
      "|6      |48          |3  |\n",
      "|6      |47          |2  |\n",
      "|7      |47          |7  |\n",
      "|8      |46          |3  |\n",
      "|8      |45          |3  |\n",
      "|9      |48          |1  |\n",
      "|9      |47          |4  |\n",
      "+-------+------------+---+\n",
      "only showing top 20 rows\n",
      "\n"
     ]
    },
    {
     "name": "stderr",
     "output_type": "stream",
     "text": [
      "                                                                                \r"
     ]
    }
   ],
   "source": [
    "spark.sql(\"\"\"\n",
    "select user_id\n",
    ",week_of_year\n",
    ",count(1) q\n",
    "from prints\n",
    "group by user_id\n",
    ",week_of_year\n",
    "order by user_id , week_of_year desc\n",
    "\"\"\").show(truncate = False)"
   ]
  },
  {
   "cell_type": "code",
   "execution_count": 14,
   "id": "cf7f92e3-8baa-41f4-962d-5ec733a65726",
   "metadata": {},
   "outputs": [
    {
     "name": "stderr",
     "output_type": "stream",
     "text": [
      "[Stage 24:>                                                         (0 + 1) / 1]\r"
     ]
    },
    {
     "name": "stdout",
     "output_type": "stream",
     "text": [
      "+-------+---+\n",
      "|user_id|q  |\n",
      "+-------+---+\n",
      "|35156  |27 |\n",
      "|9704   |27 |\n",
      "|61554  |26 |\n",
      "|88770  |26 |\n",
      "|30781  |25 |\n",
      "|51870  |25 |\n",
      "|5352   |25 |\n",
      "|48782  |25 |\n",
      "|64536  |24 |\n",
      "|38850  |24 |\n",
      "|33842  |24 |\n",
      "|56578  |24 |\n",
      "|59876  |24 |\n",
      "|65036  |24 |\n",
      "|41940  |24 |\n",
      "|88191  |24 |\n",
      "|20457  |24 |\n",
      "|50813  |24 |\n",
      "|95769  |24 |\n",
      "|19656  |24 |\n",
      "+-------+---+\n",
      "only showing top 20 rows\n",
      "\n"
     ]
    },
    {
     "name": "stderr",
     "output_type": "stream",
     "text": [
      "                                                                                \r"
     ]
    }
   ],
   "source": [
    "spark.sql(\"\"\"\n",
    "select user_id\n",
    ",count(1) q\n",
    "from prints\n",
    "group by user_id\n",
    "order by q desc  \n",
    "\"\"\").show(truncate = False)"
   ]
  },
  {
   "cell_type": "code",
   "execution_count": 15,
   "id": "36da2040-6312-4ce7-8baf-8572d031c946",
   "metadata": {},
   "outputs": [
    {
     "name": "stderr",
     "output_type": "stream",
     "text": [
      "[Stage 28:>                                                         (0 + 1) / 1]\r"
     ]
    },
    {
     "name": "stdout",
     "output_type": "stream",
     "text": [
      "+----------+-----------------------+-------+------------+-----+\n",
      "|day       |event_data             |user_id|week_of_year|click|\n",
      "+----------+-----------------------+-------+------------+-----+\n",
      "|2020-11-01|{0, cellphone_recharge}|3708   |44          |n    |\n",
      "|2020-11-01|{1, prepaid}           |3708   |44          |n    |\n",
      "|2020-11-01|{2, point}             |3708   |44          |y    |\n",
      "|2020-11-01|{3, send_money}        |3708   |44          |y    |\n",
      "|2020-11-09|{0, credits_consumer}  |3708   |46          |n    |\n",
      "|2020-11-13|{0, link_cobro}        |3708   |46          |n    |\n",
      "|2020-11-25|{0, link_cobro}        |3708   |48          |n    |\n",
      "|2020-11-25|{1, transport}         |3708   |48          |n    |\n",
      "+----------+-----------------------+-------+------------+-----+\n",
      "\n"
     ]
    },
    {
     "name": "stderr",
     "output_type": "stream",
     "text": [
      "                                                                                \r"
     ]
    }
   ],
   "source": [
    "spark.sql(\"\"\"\n",
    "select a.*\n",
    ",case when b.user_id is not null then \"y\" else \"n\" end click\n",
    "from prints a\n",
    "left join taps b\n",
    "on a.user_id = b.user_id\n",
    "and a.event_data = b.event_data\n",
    "and a.day = b.day\n",
    "where a.user_id = 3708\n",
    "\"\"\").show(30, truncate = False)"
   ]
  },
  {
   "cell_type": "code",
   "execution_count": 16,
   "id": "4d187073-8cbf-48a7-a04a-93aa5b55d88a",
   "metadata": {},
   "outputs": [
    {
     "name": "stderr",
     "output_type": "stream",
     "text": [
      "[Stage 29:>                                                         (0 + 1) / 1]\r"
     ]
    },
    {
     "name": "stdout",
     "output_type": "stream",
     "text": [
      "+-------+----------+\n",
      "|user_id|  max(day)|\n",
      "+-------+----------+\n",
      "|  25517|2020-11-28|\n",
      "|  97186|2020-11-15|\n",
      "|  16503|2020-11-21|\n",
      "|   5803|2020-11-29|\n",
      "|  38868|2020-11-29|\n",
      "|  73683|2020-11-15|\n",
      "|  49331|2020-11-17|\n",
      "|  38311|2020-11-27|\n",
      "|  45341|2020-11-30|\n",
      "|  80006|2020-11-28|\n",
      "+-------+----------+\n",
      "only showing top 10 rows\n",
      "\n"
     ]
    },
    {
     "name": "stderr",
     "output_type": "stream",
     "text": [
      "                                                                                \r"
     ]
    }
   ],
   "source": [
    "df_prints.groupBy(\"user_id\").agg(max(\"day\")).show(10)"
   ]
  },
  {
   "cell_type": "code",
   "execution_count": 17,
   "id": "4d448759-d3cd-4876-b196-16902ccac527",
   "metadata": {},
   "outputs": [
    {
     "name": "stdout",
     "output_type": "stream",
     "text": [
      "root\n",
      " |-- day: date (nullable = true)\n",
      " |-- event_data: struct (nullable = true)\n",
      " |    |-- position: integer (nullable = true)\n",
      " |    |-- value_prop: string (nullable = true)\n",
      " |-- user_id: integer (nullable = true)\n",
      " |-- week_of_year: integer (nullable = true)\n",
      " |-- date: long (nullable = true)\n",
      " |-- value_prop: string (nullable = true)\n",
      "\n"
     ]
    }
   ],
   "source": [
    "df_prints = df_prints.withColumn(\"date\",to_timestamp(col(\"day\")).cast(\"bigint\"))\n",
    "df_prints = df_prints.withColumn(\"value_prop\",(col(\"event_data.value_prop\")))\n",
    "df_prints.printSchema()"
   ]
  },
  {
   "cell_type": "code",
   "execution_count": 25,
   "id": "5457994b-0f47-4b11-90c8-6662578e3e3a",
   "metadata": {},
   "outputs": [],
   "source": [
    "from pyspark.sql.window import Window\n",
    "days = lambda i: i * 86400 ## total number of seconds per day\n",
    "window_spec = Window.partitionBy(\"a.user_id\",\"a.value_prop\").orderBy(col(\"date\")).rangeBetween(days(-21), days(-1))"
   ]
  },
  {
   "cell_type": "code",
   "execution_count": 19,
   "id": "28db830e-0178-4ff1-8eee-e5dc1cbfb5e8",
   "metadata": {},
   "outputs": [],
   "source": [
    "df_prints = df_prints.alias(\"a\").withColumn(\"count_print_last_3_weeks\",count(\"a.user_id\").over(window_spec))"
   ]
  },
  {
   "cell_type": "code",
   "execution_count": 20,
   "id": "2da7d413-c8e9-4f80-8575-52381af22ae7",
   "metadata": {},
   "outputs": [
    {
     "name": "stderr",
     "output_type": "stream",
     "text": [
      "[Stage 32:>                                                         (0 + 1) / 1]\r"
     ]
    },
    {
     "name": "stdout",
     "output_type": "stream",
     "text": [
      "+----------+-----------------------+-------+------------+----------+------------------+------------------------+\n",
      "|day       |event_data             |user_id|week_of_year|date      |value_prop        |count_print_last_3_weeks|\n",
      "+----------+-----------------------+-------+------------+----------+------------------+------------------------+\n",
      "|2020-11-01|{3, cellphone_recharge}|35156  |44          |1604206800|cellphone_recharge|0                       |\n",
      "|2020-11-11|{2, cellphone_recharge}|35156  |46          |1605070800|cellphone_recharge|1                       |\n",
      "|2020-11-14|{0, cellphone_recharge}|35156  |46          |1605330000|cellphone_recharge|2                       |\n",
      "|2020-11-01|{2, credits_consumer}  |35156  |44          |1604206800|credits_consumer  |0                       |\n",
      "|2020-11-06|{1, credits_consumer}  |35156  |45          |1604638800|credits_consumer  |1                       |\n",
      "|2020-11-13|{1, credits_consumer}  |35156  |46          |1605243600|credits_consumer  |2                       |\n",
      "|2020-11-14|{1, credits_consumer}  |35156  |46          |1605330000|credits_consumer  |3                       |\n",
      "|2020-11-29|{0, credits_consumer}  |35156  |48          |1606626000|credits_consumer  |2                       |\n",
      "|2020-11-01|{1, link_cobro}        |35156  |44          |1604206800|link_cobro        |0                       |\n",
      "|2020-11-06|{3, link_cobro}        |35156  |45          |1604638800|link_cobro        |1                       |\n",
      "|2020-11-07|{3, link_cobro}        |35156  |45          |1604725200|link_cobro        |2                       |\n",
      "|2020-11-29|{2, link_cobro}        |35156  |48          |1606626000|link_cobro        |0                       |\n",
      "|2020-11-01|{0, point}             |35156  |44          |1604206800|point             |0                       |\n",
      "|2020-11-06|{0, point}             |35156  |45          |1604638800|point             |1                       |\n",
      "|2020-11-07|{1, point}             |35156  |45          |1604725200|point             |2                       |\n",
      "|2020-11-13|{0, point}             |35156  |46          |1605243600|point             |3                       |\n",
      "|2020-11-14|{3, point}             |35156  |46          |1605330000|point             |4                       |\n",
      "|2020-11-07|{0, prepaid}           |35156  |45          |1604725200|prepaid           |0                       |\n",
      "|2020-11-11|{1, prepaid}           |35156  |46          |1605070800|prepaid           |1                       |\n",
      "|2020-11-20|{0, prepaid}           |35156  |47          |1605848400|prepaid           |2                       |\n",
      "|2020-11-06|{2, send_money}        |35156  |45          |1604638800|send_money        |0                       |\n",
      "|2020-11-07|{2, send_money}        |35156  |45          |1604725200|send_money        |1                       |\n",
      "|2020-11-11|{0, send_money}        |35156  |46          |1605070800|send_money        |2                       |\n",
      "|2020-11-14|{2, send_money}        |35156  |46          |1605330000|send_money        |3                       |\n",
      "|2020-11-20|{1, send_money}        |35156  |47          |1605848400|send_money        |4                       |\n",
      "|2020-11-29|{1, send_money}        |35156  |48          |1606626000|send_money        |3                       |\n",
      "|2020-11-13|{2, transport}         |35156  |46          |1605243600|transport         |0                       |\n",
      "+----------+-----------------------+-------+------------+----------+------------------+------------------------+\n",
      "\n"
     ]
    },
    {
     "name": "stderr",
     "output_type": "stream",
     "text": [
      "                                                                                \r"
     ]
    }
   ],
   "source": [
    "df_prints.where(col('user_id')==35156).show(40, truncate = False)"
   ]
  },
  {
   "cell_type": "code",
   "execution_count": 21,
   "id": "cfaa1ff6-7253-4bbe-86cc-371c1848b4b9",
   "metadata": {},
   "outputs": [],
   "source": [
    "df_join = df_prints.alias(\"a\").join(df_taps.alias(\"b\"), (col(\"a.user_id\") == col(\"b.user_id\")) \\\n",
    "                                    & (col(\"a.event_data\") == col(\"b.event_data\")) \\\n",
    "                                    & (col(\"a.day\") == col(\"b.day\")), \"leftouter\") \\\n",
    ".withColumn(\"clicked\", when(expr(\"b.user_id is not null\"), \"Y\").otherwise(\"N\")) \\\n",
    ".withColumn(\"count_click_last_3_weeks\",count(\"b.user_id\").over(window_spec)) \\\n",
    ".select(\"a.*\",\"clicked\",\"count_click_last_3_weeks\")"
   ]
  },
  {
   "cell_type": "code",
   "execution_count": 22,
   "id": "a9764288-5d5a-415d-aae2-51c64d6a126b",
   "metadata": {},
   "outputs": [
    {
     "name": "stderr",
     "output_type": "stream",
     "text": [
      "                                                                                \r"
     ]
    },
    {
     "name": "stdout",
     "output_type": "stream",
     "text": [
      "+----------+-----------------------+-------+------------+----------+------------------+------------------------+-------+------------------------+\n",
      "|day       |event_data             |user_id|week_of_year|date      |value_prop        |count_print_last_3_weeks|clicked|count_click_last_3_weeks|\n",
      "+----------+-----------------------+-------+------------+----------+------------------+------------------------+-------+------------------------+\n",
      "|2020-11-23|{2, cellphone_recharge}|1      |48          |1606107600|cellphone_recharge|0                       |N      |0                       |\n",
      "|2020-11-30|{2, cellphone_recharge}|1      |49          |1606712400|cellphone_recharge|1                       |N      |0                       |\n",
      "|2020-11-03|{3, credits_consumer}  |1      |45          |1604379600|credits_consumer  |0                       |N      |0                       |\n",
      "|2020-11-14|{2, credits_consumer}  |1      |46          |1605330000|credits_consumer  |1                       |N      |0                       |\n",
      "|2020-11-03|{1, link_cobro}        |1      |45          |1604379600|link_cobro        |0                       |Y      |0                       |\n",
      "|2020-11-12|{0, link_cobro}        |1      |46          |1605157200|link_cobro        |1                       |N      |1                       |\n",
      "|2020-11-14|{0, link_cobro}        |1      |46          |1605330000|link_cobro        |2                       |N      |1                       |\n",
      "|2020-11-30|{3, link_cobro}        |1      |49          |1606712400|link_cobro        |2                       |N      |0                       |\n",
      "|2020-11-17|{1, point}             |1      |47          |1605589200|point             |0                       |N      |0                       |\n",
      "|2020-11-30|{1, point}             |1      |49          |1606712400|point             |1                       |N      |0                       |\n",
      "+----------+-----------------------+-------+------------+----------+------------------+------------------------+-------+------------------------+\n",
      "only showing top 10 rows\n",
      "\n"
     ]
    },
    {
     "name": "stderr",
     "output_type": "stream",
     "text": [
      "                                                                                \r"
     ]
    }
   ],
   "source": [
    "df_join.show(10, truncate = False)"
   ]
  },
  {
   "cell_type": "code",
   "execution_count": 23,
   "id": "62dc4e05-8a43-4b9a-be33-2250f4a80919",
   "metadata": {},
   "outputs": [
    {
     "name": "stderr",
     "output_type": "stream",
     "text": [
      "                                                                                \r"
     ]
    },
    {
     "data": {
      "text/plain": [
       "508617"
      ]
     },
     "execution_count": 23,
     "metadata": {},
     "output_type": "execute_result"
    }
   ],
   "source": [
    "df_join.count()"
   ]
  },
  {
   "cell_type": "code",
   "execution_count": 24,
   "id": "c07f375a-591f-4b57-8ba4-eb24bc91cd39",
   "metadata": {},
   "outputs": [
    {
     "ename": "AnalysisException",
     "evalue": "Reference 'value_prop' is ambiguous, could be: a.value_prop, c.value_prop.",
     "output_type": "error",
     "traceback": [
      "\u001b[0;31m---------------------------------------------------------------------------\u001b[0m",
      "\u001b[0;31mAnalysisException\u001b[0m                         Traceback (most recent call last)",
      "\u001b[0;32m/tmp/ipykernel_21877/4130418960.py\u001b[0m in \u001b[0;36m<module>\u001b[0;34m\u001b[0m\n\u001b[1;32m      4\u001b[0m                        \u001b[0;34m&\u001b[0m \u001b[0;34m(\u001b[0m\u001b[0mcol\u001b[0m\u001b[0;34m(\u001b[0m\u001b[0;34m\"a.user_id\"\u001b[0m\u001b[0;34m)\u001b[0m \u001b[0;34m==\u001b[0m \u001b[0mcol\u001b[0m\u001b[0;34m(\u001b[0m\u001b[0;34m\"c.user_id\"\u001b[0m\u001b[0;34m)\u001b[0m\u001b[0;34m)\u001b[0m\u001b[0;34m,\u001b[0m\u001b[0;31m \u001b[0m\u001b[0;31m\\\u001b[0m\u001b[0;34m\u001b[0m\u001b[0;34m\u001b[0m\u001b[0m\n\u001b[1;32m      5\u001b[0m                        \"leftouter\") \\\n\u001b[0;32m----> 6\u001b[0;31m \u001b[0;34m.\u001b[0m\u001b[0mwithColumn\u001b[0m\u001b[0;34m(\u001b[0m\u001b[0;34m\"count_pays_last_3_weeks\"\u001b[0m\u001b[0;34m,\u001b[0m \u001b[0mcount\u001b[0m\u001b[0;34m(\u001b[0m\u001b[0;34m\"c.user_id\"\u001b[0m\u001b[0;34m)\u001b[0m\u001b[0;34m.\u001b[0m\u001b[0mover\u001b[0m\u001b[0;34m(\u001b[0m\u001b[0mwindow_spec\u001b[0m\u001b[0;34m)\u001b[0m\u001b[0;34m)\u001b[0m\u001b[0;31m \u001b[0m\u001b[0;31m\\\u001b[0m\u001b[0;34m\u001b[0m\u001b[0;34m\u001b[0m\u001b[0m\n\u001b[0m\u001b[1;32m      7\u001b[0m \u001b[0;34m.\u001b[0m\u001b[0mwithColumn\u001b[0m\u001b[0;34m(\u001b[0m\u001b[0;34m\"sum_pays_last_3_weeks\"\u001b[0m\u001b[0;34m,\u001b[0m \u001b[0msum\u001b[0m\u001b[0;34m(\u001b[0m\u001b[0;34m\"c.total\"\u001b[0m\u001b[0;34m)\u001b[0m\u001b[0;34m.\u001b[0m\u001b[0mover\u001b[0m\u001b[0;34m(\u001b[0m\u001b[0mwindow_spec\u001b[0m\u001b[0;34m)\u001b[0m\u001b[0;34m)\u001b[0m\u001b[0;34m\u001b[0m\u001b[0;34m\u001b[0m\u001b[0m\n",
      "\u001b[0;32m~/.local/lib/python3.10/site-packages/pyspark/sql/dataframe.py\u001b[0m in \u001b[0;36mwithColumn\u001b[0;34m(self, colName, col)\u001b[0m\n\u001b[1;32m   3034\u001b[0m         \u001b[0;32mif\u001b[0m \u001b[0;32mnot\u001b[0m \u001b[0misinstance\u001b[0m\u001b[0;34m(\u001b[0m\u001b[0mcol\u001b[0m\u001b[0;34m,\u001b[0m \u001b[0mColumn\u001b[0m\u001b[0;34m)\u001b[0m\u001b[0;34m:\u001b[0m\u001b[0;34m\u001b[0m\u001b[0;34m\u001b[0m\u001b[0m\n\u001b[1;32m   3035\u001b[0m             \u001b[0;32mraise\u001b[0m \u001b[0mTypeError\u001b[0m\u001b[0;34m(\u001b[0m\u001b[0;34m\"col should be Column\"\u001b[0m\u001b[0;34m)\u001b[0m\u001b[0;34m\u001b[0m\u001b[0;34m\u001b[0m\u001b[0m\n\u001b[0;32m-> 3036\u001b[0;31m         \u001b[0;32mreturn\u001b[0m \u001b[0mDataFrame\u001b[0m\u001b[0;34m(\u001b[0m\u001b[0mself\u001b[0m\u001b[0;34m.\u001b[0m\u001b[0m_jdf\u001b[0m\u001b[0;34m.\u001b[0m\u001b[0mwithColumn\u001b[0m\u001b[0;34m(\u001b[0m\u001b[0mcolName\u001b[0m\u001b[0;34m,\u001b[0m \u001b[0mcol\u001b[0m\u001b[0;34m.\u001b[0m\u001b[0m_jc\u001b[0m\u001b[0;34m)\u001b[0m\u001b[0;34m,\u001b[0m \u001b[0mself\u001b[0m\u001b[0;34m.\u001b[0m\u001b[0msparkSession\u001b[0m\u001b[0;34m)\u001b[0m\u001b[0;34m\u001b[0m\u001b[0;34m\u001b[0m\u001b[0m\n\u001b[0m\u001b[1;32m   3037\u001b[0m \u001b[0;34m\u001b[0m\u001b[0m\n\u001b[1;32m   3038\u001b[0m     \u001b[0;32mdef\u001b[0m \u001b[0mwithColumnRenamed\u001b[0m\u001b[0;34m(\u001b[0m\u001b[0mself\u001b[0m\u001b[0;34m,\u001b[0m \u001b[0mexisting\u001b[0m\u001b[0;34m:\u001b[0m \u001b[0mstr\u001b[0m\u001b[0;34m,\u001b[0m \u001b[0mnew\u001b[0m\u001b[0;34m:\u001b[0m \u001b[0mstr\u001b[0m\u001b[0;34m)\u001b[0m \u001b[0;34m->\u001b[0m \u001b[0;34m\"DataFrame\"\u001b[0m\u001b[0;34m:\u001b[0m\u001b[0;34m\u001b[0m\u001b[0;34m\u001b[0m\u001b[0m\n",
      "\u001b[0;32m~/.local/lib/python3.10/site-packages/py4j/java_gateway.py\u001b[0m in \u001b[0;36m__call__\u001b[0;34m(self, *args)\u001b[0m\n\u001b[1;32m   1319\u001b[0m \u001b[0;34m\u001b[0m\u001b[0m\n\u001b[1;32m   1320\u001b[0m         \u001b[0manswer\u001b[0m \u001b[0;34m=\u001b[0m \u001b[0mself\u001b[0m\u001b[0;34m.\u001b[0m\u001b[0mgateway_client\u001b[0m\u001b[0;34m.\u001b[0m\u001b[0msend_command\u001b[0m\u001b[0;34m(\u001b[0m\u001b[0mcommand\u001b[0m\u001b[0;34m)\u001b[0m\u001b[0;34m\u001b[0m\u001b[0;34m\u001b[0m\u001b[0m\n\u001b[0;32m-> 1321\u001b[0;31m         return_value = get_return_value(\n\u001b[0m\u001b[1;32m   1322\u001b[0m             answer, self.gateway_client, self.target_id, self.name)\n\u001b[1;32m   1323\u001b[0m \u001b[0;34m\u001b[0m\u001b[0m\n",
      "\u001b[0;32m~/.local/lib/python3.10/site-packages/pyspark/sql/utils.py\u001b[0m in \u001b[0;36mdeco\u001b[0;34m(*a, **kw)\u001b[0m\n\u001b[1;32m    194\u001b[0m                 \u001b[0;31m# Hide where the exception came from that shows a non-Pythonic\u001b[0m\u001b[0;34m\u001b[0m\u001b[0;34m\u001b[0m\u001b[0m\n\u001b[1;32m    195\u001b[0m                 \u001b[0;31m# JVM exception message.\u001b[0m\u001b[0;34m\u001b[0m\u001b[0;34m\u001b[0m\u001b[0m\n\u001b[0;32m--> 196\u001b[0;31m                 \u001b[0;32mraise\u001b[0m \u001b[0mconverted\u001b[0m \u001b[0;32mfrom\u001b[0m \u001b[0;32mNone\u001b[0m\u001b[0;34m\u001b[0m\u001b[0;34m\u001b[0m\u001b[0m\n\u001b[0m\u001b[1;32m    197\u001b[0m             \u001b[0;32melse\u001b[0m\u001b[0;34m:\u001b[0m\u001b[0;34m\u001b[0m\u001b[0;34m\u001b[0m\u001b[0m\n\u001b[1;32m    198\u001b[0m                 \u001b[0;32mraise\u001b[0m\u001b[0;34m\u001b[0m\u001b[0;34m\u001b[0m\u001b[0m\n",
      "\u001b[0;31mAnalysisException\u001b[0m: Reference 'value_prop' is ambiguous, could be: a.value_prop, c.value_prop."
     ]
    }
   ],
   "source": [
    "# Defining the result dataset with proper calculations.\n",
    "dataset = df_join.join(df_pays.alias(\"c\"), (col(\"a.day\") == col(\"c.pay_date\")) \\\n",
    "                       & (col(\"a.value_prop\") == col(\"c.value_prop\")) \\\n",
    "                       & (col(\"a.user_id\") == col(\"c.user_id\")), \\\n",
    "                       \"leftouter\") \\\n",
    ".withColumn(\"count_pays_last_3_weeks\", count(\"c.user_id\").over(window_spec)) \\\n",
    ".withColumn(\"sum_pays_last_3_weeks\", sum(\"c.total\").over(window_spec))"
   ]
  },
  {
   "cell_type": "code",
   "execution_count": null,
   "id": "95b50589-ae76-4aca-aa52-532833b907ea",
   "metadata": {},
   "outputs": [],
   "source": [
    "dataset.count()"
   ]
  },
  {
   "cell_type": "code",
   "execution_count": null,
   "id": "866d0853-c00c-4654-b190-8f2d92d982aa",
   "metadata": {},
   "outputs": [],
   "source": [
    "# Retrieving results\n",
    "dataset.select(\"a.*\",\"clicked\",\"count_click_last_3_weeks\",\"count_pays_last_3_weeks\",\"sum_pays_last_3_weeks\").na.fill(0).show(100, truncate = False)"
   ]
  },
  {
   "cell_type": "code",
   "execution_count": null,
   "id": "57866298-adeb-4e88-8f7f-7c18800c7a93",
   "metadata": {},
   "outputs": [],
   "source": []
  }
 ],
 "metadata": {
  "kernelspec": {
   "display_name": "Python 3 (ipykernel)",
   "language": "python",
   "name": "python3"
  },
  "language_info": {
   "codemirror_mode": {
    "name": "ipython",
    "version": 3
   },
   "file_extension": ".py",
   "mimetype": "text/x-python",
   "name": "python",
   "nbconvert_exporter": "python",
   "pygments_lexer": "ipython3",
   "version": "3.10.6"
  }
 },
 "nbformat": 4,
 "nbformat_minor": 5
}
