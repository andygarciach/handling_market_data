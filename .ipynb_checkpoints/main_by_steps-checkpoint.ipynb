{
 "cells": [
  {
   "cell_type": "code",
   "execution_count": 1,
   "id": "d45a0482-a77e-46c6-b85a-26b55669c014",
   "metadata": {},
   "outputs": [],
   "source": [
    "from pyspark.sql import SparkSession\n",
    "from pyspark.sql.functions import *\n",
    "from pyspark.sql.types import StructType, StructField, IntegerType, StringType, DateType, DoubleType\n",
    "from utils import Utils\n",
    "from utils.Utils import Transformer\n",
    "from utils.spark_utils import Spark_utils\n",
    "import logging"
   ]
  },
  {
   "cell_type": "code",
   "execution_count": 2,
   "id": "838aff5e-28af-4116-8759-a720b26e0e64",
   "metadata": {},
   "outputs": [
    {
     "name": "stdout",
     "output_type": "stream",
     "text": [
      "Environment:  DEV\n",
      "24/08/06 08:42:32 WARN Utils: Your hostname, EPCOBOGW1343 resolves to a loopback address: 127.0.1.1; using 10.255.255.254 instead (on interface lo)\n",
      "24/08/06 08:42:32 WARN Utils: Set SPARK_LOCAL_IP if you need to bind to another address\n"
     ]
    },
    {
     "name": "stderr",
     "output_type": "stream",
     "text": [
      "Setting default log level to \"WARN\".\n",
      "To adjust logging level use sc.setLogLevel(newLevel). For SparkR, use setLogLevel(newLevel).\n"
     ]
    },
    {
     "name": "stdout",
     "output_type": "stream",
     "text": [
      "24/08/06 08:42:33 WARN NativeCodeLoader: Unable to load native-hadoop library for your platform... using builtin-java classes where applicable\n"
     ]
    }
   ],
   "source": [
    "## Settings variables for log handling and Spark Session\n",
    "spark = None\n",
    "logging.basicConfig(level=logging.INFO)\n",
    "logger = logging.getLogger(__name__)\n",
    "\n",
    "## Spark_utils object to enable SparkSession\n",
    "spark_util = Spark_utils(\"DEV\", \"Meli_Pipeline\")\n",
    "spark_util.set_spark_session()\n",
    "spark = spark_util.get_spark_session()"
   ]
  },
  {
   "cell_type": "code",
   "execution_count": 3,
   "id": "f8809778-666d-41d9-afb4-6d1356d87fb2",
   "metadata": {},
   "outputs": [
    {
     "name": "stderr",
     "output_type": "stream",
     "text": [
      "INFO:__main__:Reading Data Sources from Local Storage...\n",
      "INFO:__main__:Defining prints.json schema ...\n",
      "INFO:__main__:Read prints.json with as dataset with proper schema\n",
      "INFO:__main__:Prints's dataframe schema...\n"
     ]
    },
    {
     "name": "stdout",
     "output_type": "stream",
     "text": [
      "root\n",
      " |-- day: date (nullable = true)\n",
      " |-- event_data: struct (nullable = true)\n",
      " |    |-- position: integer (nullable = true)\n",
      " |    |-- value_prop: string (nullable = true)\n",
      " |-- user_id: integer (nullable = true)\n",
      "\n"
     ]
    }
   ],
   "source": [
    "## Iniaiting data reads from original source to Dataframe\n",
    "logger.info(\"Reading Data Sources from Local Storage...\")\n",
    "\n",
    "logger.info(\"Defining prints.json schema ...\")\n",
    "prints_schema = StructType([\n",
    "StructField(\"day\", DateType(), True),\n",
    "StructField(\"event_data\", StructType([\n",
    "    StructField(\"position\", IntegerType(), True),\n",
    "    StructField(\"value_prop\", StringType(), True)\n",
    "]), True),\n",
    "StructField(\"user_id\", IntegerType(), True)\n",
    "])\n",
    "\n",
    "## Reading \"prints.json\" data to dataframe\n",
    "logger.info(\"Read prints.json with as dataset with proper schema\")\n",
    "df_prints = spark.read.json(\"data_sources/prints.json\", schema=prints_schema)\n",
    "\n",
    "logger.info(\"Prints's dataframe schema...\")\n",
    "df_prints.printSchema()"
   ]
  },
  {
   "cell_type": "code",
   "execution_count": 4,
   "id": "803a4577-cbc6-4ef8-a3aa-7c35266c4c1f",
   "metadata": {},
   "outputs": [
    {
     "name": "stderr",
     "output_type": "stream",
     "text": [
      "INFO:__main__:3 New Datasets were created\n"
     ]
    }
   ],
   "source": [
    "## Reading \"taps.json\" data to dataframe\n",
    "\n",
    "taps_schema = StructType([\n",
    "StructField(\"day\", DateType(), True),\n",
    "StructField(\"event_data\", StructType([\n",
    "    StructField(\"position\", IntegerType(), True),\n",
    "    StructField(\"value_prop\", StringType(), True)\n",
    "]), True),\n",
    "StructField(\"user_id\", IntegerType(), True)\n",
    "])\n",
    "    \n",
    "df_taps = spark.read.json(\"data_sources/taps.json\", schema = taps_schema)\n",
    "\n",
    "## Reading \"prints.json\" data to dataframe\n",
    "\n",
    "pays_schema = StructType([\n",
    "StructField(\"pay_date\", DateType(), True),\n",
    "StructField(\"total\", DoubleType(), True),\n",
    "StructField(\"user_id\", IntegerType(), True),\n",
    "StructField(\"value_prop\", StringType(), True)\n",
    "])\n",
    "    \n",
    "df_pays = spark.read.option(\"header\",\"True\").csv(\"data_sources/pays.csv\", schema = pays_schema)\n",
    "logger.info(\"3 New Datasets were created\")"
   ]
  },
  {
   "cell_type": "code",
   "execution_count": 5,
   "id": "b44d2308-7900-4582-9510-5b7feb3a3fc6",
   "metadata": {},
   "outputs": [
    {
     "name": "stderr",
     "output_type": "stream",
     "text": [
      "INFO:__main__:Calculating week of year for column day in prints\n",
      "INFO:__main__:Calculating Rank for column week_of_year in prints\n",
      "INFO:__main__:Calculating Row_Number for column week_of_year in prints\n",
      "INFO:__main__:Showing processed data for Prints\n"
     ]
    },
    {
     "name": "stdout",
     "output_type": "stream",
     "text": [
      "root\n",
      " |-- day: date (nullable = true)\n",
      " |-- event_data: struct (nullable = true)\n",
      " |    |-- position: integer (nullable = true)\n",
      " |    |-- value_prop: string (nullable = true)\n",
      " |-- user_id: integer (nullable = true)\n",
      " |-- week_of_year: integer (nullable = true)\n",
      "\n",
      "root\n",
      " |-- day: date (nullable = true)\n",
      " |-- event_data: struct (nullable = true)\n",
      " |    |-- position: integer (nullable = true)\n",
      " |    |-- value_prop: string (nullable = true)\n",
      " |-- user_id: integer (nullable = true)\n",
      " |-- week_of_year: integer (nullable = true)\n",
      "\n"
     ]
    },
    {
     "name": "stderr",
     "output_type": "stream",
     "text": [
      "INFO:__main__:Calculating week of year for column day in taps                   \n",
      "INFO:__main__:Calculating Rank for column week_of_year in taps\n",
      "INFO:__main__:Calculating Row_Number for column week_of_year in prints\n",
      "INFO:__main__:Showing processed data for Prints\n"
     ]
    },
    {
     "name": "stdout",
     "output_type": "stream",
     "text": [
      "+----------+-----------------------+-------+------------+\n",
      "|day       |event_data             |user_id|week_of_year|\n",
      "+----------+-----------------------+-------+------------+\n",
      "|2020-11-01|{0, cellphone_recharge}|98702  |44          |\n",
      "|2020-11-01|{1, prepaid}           |98702  |44          |\n",
      "|2020-11-01|{0, prepaid}           |63252  |44          |\n",
      "|2020-11-01|{0, cellphone_recharge}|24728  |44          |\n",
      "|2020-11-01|{1, link_cobro}        |24728  |44          |\n",
      "|2020-11-01|{2, credits_consumer}  |24728  |44          |\n",
      "|2020-11-01|{3, point}             |24728  |44          |\n",
      "|2020-11-01|{0, point}             |25517  |44          |\n",
      "|2020-11-01|{1, credits_consumer}  |25517  |44          |\n",
      "|2020-11-01|{2, transport}         |25517  |44          |\n",
      "|2020-11-01|{0, point}             |57587  |44          |\n",
      "|2020-11-01|{0, transport}         |13609  |44          |\n",
      "|2020-11-01|{0, cellphone_recharge}|3708   |44          |\n",
      "|2020-11-01|{1, prepaid}           |3708   |44          |\n",
      "|2020-11-01|{2, point}             |3708   |44          |\n",
      "|2020-11-01|{3, send_money}        |3708   |44          |\n",
      "|2020-11-01|{0, send_money}        |99571  |44          |\n",
      "|2020-11-01|{1, point}             |99571  |44          |\n",
      "|2020-11-01|{2, link_cobro}        |99571  |44          |\n",
      "|2020-11-01|{0, prepaid}           |53823  |44          |\n",
      "+----------+-----------------------+-------+------------+\n",
      "only showing top 20 rows\n",
      "\n",
      "root\n",
      " |-- day: date (nullable = true)\n",
      " |-- event_data: struct (nullable = true)\n",
      " |    |-- position: integer (nullable = true)\n",
      " |    |-- value_prop: string (nullable = true)\n",
      " |-- user_id: integer (nullable = true)\n",
      " |-- week_of_year: integer (nullable = true)\n",
      "\n",
      "root\n",
      " |-- day: date (nullable = true)\n",
      " |-- event_data: struct (nullable = true)\n",
      " |    |-- position: integer (nullable = true)\n",
      " |    |-- value_prop: string (nullable = true)\n",
      " |-- user_id: integer (nullable = true)\n",
      " |-- week_of_year: integer (nullable = true)\n",
      "\n"
     ]
    },
    {
     "name": "stderr",
     "output_type": "stream",
     "text": [
      "INFO:__main__:Calculating week of year for column day in pays\n",
      "INFO:__main__:Calculating Rank for column week_of_year in pays\n",
      "INFO:__main__:Calculating Row_Number for column week_of_year in prints\n",
      "INFO:__main__:Showing processed data for Prints\n"
     ]
    },
    {
     "name": "stdout",
     "output_type": "stream",
     "text": [
      "+----------+-----------------------+-------+------------+\n",
      "|day       |event_data             |user_id|week_of_year|\n",
      "+----------+-----------------------+-------+------------+\n",
      "|2020-11-01|{0, cellphone_recharge}|98702  |44          |\n",
      "|2020-11-01|{2, point}             |3708   |44          |\n",
      "|2020-11-01|{3, send_money}        |3708   |44          |\n",
      "|2020-11-01|{0, transport}         |93963  |44          |\n",
      "|2020-11-01|{1, cellphone_recharge}|93963  |44          |\n",
      "|2020-11-01|{0, link_cobro}        |94945  |44          |\n",
      "|2020-11-01|{1, cellphone_recharge}|94945  |44          |\n",
      "|2020-11-01|{2, prepaid}           |89026  |44          |\n",
      "|2020-11-01|{0, link_cobro}        |7616   |44          |\n",
      "|2020-11-01|{0, link_cobro}        |63471  |44          |\n",
      "|2020-11-01|{1, send_money}        |98277  |44          |\n",
      "|2020-11-01|{2, cellphone_recharge}|83634  |44          |\n",
      "|2020-11-01|{0, cellphone_recharge}|2367   |44          |\n",
      "|2020-11-01|{0, credits_consumer}  |14472  |44          |\n",
      "|2020-11-01|{2, send_money}        |88316  |44          |\n",
      "|2020-11-01|{0, credits_consumer}  |40910  |44          |\n",
      "|2020-11-01|{0, cellphone_recharge}|412    |44          |\n",
      "|2020-11-01|{1, prepaid}           |76198  |44          |\n",
      "|2020-11-01|{3, transport}         |52715  |44          |\n",
      "|2020-11-01|{2, credits_consumer}  |9294   |44          |\n",
      "+----------+-----------------------+-------+------------+\n",
      "only showing top 20 rows\n",
      "\n",
      "root\n",
      " |-- pay_date: date (nullable = true)\n",
      " |-- total: double (nullable = true)\n",
      " |-- user_id: integer (nullable = true)\n",
      " |-- value_prop: string (nullable = true)\n",
      " |-- week_of_year: integer (nullable = true)\n",
      "\n",
      "+----------+------+-------+------------------+------------+\n",
      "|pay_date  |total |user_id|value_prop        |week_of_year|\n",
      "+----------+------+-------+------------------+------------+\n",
      "|2020-11-01|7.04  |35994  |link_cobro        |44          |\n",
      "|2020-11-01|37.36 |79066  |cellphone_recharge|44          |\n",
      "|2020-11-01|15.84 |19321  |cellphone_recharge|44          |\n",
      "|2020-11-01|26.26 |19321  |send_money        |44          |\n",
      "|2020-11-01|35.35 |38438  |send_money        |44          |\n",
      "|2020-11-01|20.95 |85939  |transport         |44          |\n",
      "|2020-11-01|74.48 |14372  |prepaid           |44          |\n",
      "|2020-11-01|31.52 |14372  |link_cobro        |44          |\n",
      "|2020-11-01|83.76 |65274  |transport         |44          |\n",
      "|2020-11-01|93.54 |65274  |prepaid           |44          |\n",
      "|2020-11-01|37.84 |97428  |link_cobro        |44          |\n",
      "|2020-11-01|26.77 |82163  |link_cobro        |44          |\n",
      "|2020-11-01|92.56 |9816   |send_money        |44          |\n",
      "|2020-11-01|122.03|9816   |prepaid           |44          |\n",
      "|2020-11-01|83.66 |28929  |prepaid           |44          |\n",
      "|2020-11-01|136.78|97275  |link_cobro        |44          |\n",
      "|2020-11-01|17.34 |85001  |cellphone_recharge|44          |\n",
      "|2020-11-01|41.93 |85001  |link_cobro        |44          |\n",
      "|2020-11-01|31.38 |42     |send_money        |44          |\n",
      "|2020-11-01|39.28 |42     |transport         |44          |\n",
      "+----------+------+-------+------------------+------------+\n",
      "only showing top 20 rows\n",
      "\n"
     ]
    }
   ],
   "source": [
    "#################### Processing df_prints DataFrame ##########################\n",
    "\n",
    "logger.info(\"Calculating week of year for column day in prints\")\n",
    "df_prints = Transformer.calcWeekOfTheYear(df_prints, \"day\", \"week_of_year\")\n",
    "\n",
    "df_prints.printSchema()\n",
    "\n",
    "logger.info(\"Calculating Rank for column week_of_year in prints\")\n",
    "##df_prints = Transformer.calcRank(df_prints, ['user_id'], ['week_of_year'], \"rank_num\", \"desc\")\n",
    "\n",
    "logger.info(\"Calculating Row_Number for column week_of_year in prints\")\n",
    "##df_prints = Transformer.calcRowNumber(df_prints, ['user_id','week_of_year'], ['week_of_year'], \"row_num\", \"desc\")\n",
    "    \n",
    "df_prints.printSchema()\n",
    "\n",
    "logger.info(\"Showing processed data for Prints\")\n",
    "df_prints.show(truncate = False)\n",
    "##df_prints.show(10, truncate = False)\n",
    "\n",
    "#################### Processing df_taps DataFrame ##########################\n",
    "\n",
    "logger.info(\"Calculating week of year for column day in taps\")\n",
    "df_taps = Transformer.calcWeekOfTheYear(df_taps, \"day\", \"week_of_year\")\n",
    "\n",
    "df_taps.printSchema()\n",
    "\n",
    "logger.info(\"Calculating Rank for column week_of_year in taps\")\n",
    "##df_taps = Transformer.calcRank(df_taps, ['user_id'], ['week_of_year'], \"rank_num\", \"desc\")\n",
    "\n",
    "logger.info(\"Calculating Row_Number for column week_of_year in prints\")\n",
    "##df_taps = Transformer.calcRowNumber(df_taps, ['user_id','week_of_year'], ['week_of_year'], \"row_num\", \"desc\")\n",
    "    \n",
    "df_taps.printSchema()\n",
    "\n",
    "logger.info(\"Showing processed data for Prints\")\n",
    "df_taps.show(truncate = False)\n",
    "##df_prints.show(10, truncate = False)\n",
    "\n",
    "#################### Processing df_pays DataFrame ##########################\n",
    "\n",
    "logger.info(\"Calculating week of year for column day in pays\")\n",
    "df_pays = Transformer.calcWeekOfTheYear(df_pays, \"pay_date\", \"week_of_year\")\n",
    "\n",
    "df_pays.printSchema()\n",
    "\n",
    "logger.info(\"Calculating Rank for column week_of_year in pays\")\n",
    "##df_pays = Transformer.calcRank(df_pays, ['user_id'], ['week_of_year'], \"rank_num\", \"desc\")\n",
    "\n",
    "logger.info(\"Calculating Row_Number for column week_of_year in prints\")\n",
    "##df_pays = Transformer.calcRowNumber(df_pays, ['user_id','week_of_year'], ['week_of_year'], \"row_num\", \"desc\")\n",
    "    \n",
    "##df_pays.printSchema()\n",
    "\n",
    "logger.info(\"Showing processed data for Prints\")\n",
    "df_pays.show(truncate = False)\n",
    "##df_prints.show(10, truncate = False)"
   ]
  },
  {
   "cell_type": "code",
   "execution_count": 6,
   "id": "b636ea34-7dc5-4799-b2d1-931fb5753584",
   "metadata": {},
   "outputs": [
    {
     "name": "stderr",
     "output_type": "stream",
     "text": [
      "                                                                                \r"
     ]
    },
    {
     "data": {
      "text/plain": [
       "508617"
      ]
     },
     "execution_count": 6,
     "metadata": {},
     "output_type": "execute_result"
    }
   ],
   "source": [
    "df_prints.count()"
   ]
  },
  {
   "cell_type": "code",
   "execution_count": 7,
   "id": "0429ce84-837f-404f-8526-f0378960a225",
   "metadata": {},
   "outputs": [
    {
     "data": {
      "text/plain": [
       "50859"
      ]
     },
     "execution_count": 7,
     "metadata": {},
     "output_type": "execute_result"
    }
   ],
   "source": [
    "df_taps.count()"
   ]
  },
  {
   "cell_type": "code",
   "execution_count": 8,
   "id": "399a1fbe-5d08-4181-9079-af993cf2bf37",
   "metadata": {},
   "outputs": [
    {
     "data": {
      "text/plain": [
       "756483"
      ]
     },
     "execution_count": 8,
     "metadata": {},
     "output_type": "execute_result"
    }
   ],
   "source": [
    "df_pays.count()"
   ]
  },
  {
   "cell_type": "code",
   "execution_count": 9,
   "id": "7159c0d6-61b9-4840-95a0-ec4b4a5c8b1f",
   "metadata": {},
   "outputs": [],
   "source": [
    "df_prints.createOrReplaceTempView(\"prints\")\n",
    "df_taps.createOrReplaceTempView(\"taps\")\n",
    "df_pays.createOrReplaceTempView(\"pays\")"
   ]
  },
  {
   "cell_type": "code",
   "execution_count": 10,
   "id": "ef53c84b-7de3-4d75-afca-704a0bb79e0c",
   "metadata": {},
   "outputs": [
    {
     "name": "stderr",
     "output_type": "stream",
     "text": [
      "[Stage 12:>                                                         (0 + 1) / 1]\r"
     ]
    },
    {
     "name": "stdout",
     "output_type": "stream",
     "text": [
      "+-------+---+-----------------+-----------------+\n",
      "|user_id|q  |min(week_of_year)|max(week_of_year)|\n",
      "+-------+---+-----------------+-----------------+\n",
      "|35156  |27 |44               |48               |\n",
      "|9704   |27 |45               |49               |\n",
      "|61554  |26 |44               |47               |\n",
      "|88770  |26 |44               |47               |\n",
      "|30781  |25 |45               |48               |\n",
      "|51870  |25 |45               |48               |\n",
      "|5352   |25 |45               |48               |\n",
      "|48782  |25 |45               |48               |\n",
      "|64536  |24 |45               |48               |\n",
      "|38850  |24 |45               |48               |\n",
      "|33842  |24 |45               |48               |\n",
      "|56578  |24 |44               |49               |\n",
      "|59876  |24 |45               |48               |\n",
      "|65036  |24 |45               |49               |\n",
      "|41940  |24 |44               |48               |\n",
      "|88191  |24 |45               |48               |\n",
      "|20457  |24 |45               |48               |\n",
      "|50813  |24 |46               |48               |\n",
      "|95769  |24 |45               |48               |\n",
      "|19656  |24 |45               |49               |\n",
      "+-------+---+-----------------+-----------------+\n",
      "only showing top 20 rows\n",
      "\n"
     ]
    },
    {
     "name": "stderr",
     "output_type": "stream",
     "text": [
      "                                                                                \r"
     ]
    }
   ],
   "source": [
    "spark.sql(\"\"\"\n",
    "select user_id,\n",
    "count(1) q ,\n",
    "min(week_of_year),\n",
    "max(week_of_year)\n",
    "from prints\n",
    "group by user_id\n",
    "order by q desc\n",
    "\"\"\").show(truncate = False)"
   ]
  },
  {
   "cell_type": "code",
   "execution_count": 11,
   "id": "8e963e99-3b9c-4377-982e-42c3e26c7040",
   "metadata": {},
   "outputs": [
    {
     "name": "stderr",
     "output_type": "stream",
     "text": [
      "[Stage 15:>                                                         (0 + 1) / 1]\r"
     ]
    },
    {
     "name": "stdout",
     "output_type": "stream",
     "text": [
      "+------+-----------------+-----------------+-----------------+\n",
      "|q     |min(week_of_year)|avg(week_of_year)|max(week_of_year)|\n",
      "+------+-----------------+-----------------+-----------------+\n",
      "|508617|44               |46.46289447659044|49               |\n",
      "+------+-----------------+-----------------+-----------------+\n",
      "\n"
     ]
    },
    {
     "name": "stderr",
     "output_type": "stream",
     "text": [
      "                                                                                \r"
     ]
    }
   ],
   "source": [
    "spark.sql(\"\"\"\n",
    "select count(1) q ,\n",
    "min(week_of_year),\n",
    "avg(week_of_year),\n",
    "max(week_of_year)\n",
    "from prints\n",
    "order by q desc\n",
    "\"\"\").show(truncate = False)"
   ]
  },
  {
   "cell_type": "code",
   "execution_count": 12,
   "id": "2cd10cd6-4f6d-4e6f-833a-a133da9d0b76",
   "metadata": {},
   "outputs": [
    {
     "name": "stderr",
     "output_type": "stream",
     "text": [
      "[Stage 18:>                                                         (0 + 1) / 1]\r"
     ]
    },
    {
     "name": "stdout",
     "output_type": "stream",
     "text": [
      "+----------+-----------------------+-------+------------+----+\n",
      "|day       |event_data             |user_id|week_of_year|rown|\n",
      "+----------+-----------------------+-------+------------+----+\n",
      "|2020-11-30|{0, transport}         |1      |49          |1   |\n",
      "|2020-11-30|{1, point}             |1      |49          |1   |\n",
      "|2020-11-30|{2, cellphone_recharge}|1      |49          |1   |\n",
      "|2020-11-30|{3, link_cobro}        |1      |49          |1   |\n",
      "|2020-11-23|{0, send_money}        |1      |48          |5   |\n",
      "|2020-11-23|{1, transport}         |1      |48          |5   |\n",
      "|2020-11-23|{2, cellphone_recharge}|1      |48          |5   |\n",
      "|2020-11-17|{0, transport}         |1      |47          |8   |\n",
      "|2020-11-17|{1, point}             |1      |47          |8   |\n",
      "|2020-11-12|{0, link_cobro}        |1      |46          |10  |\n",
      "|2020-11-14|{0, link_cobro}        |1      |46          |10  |\n",
      "|2020-11-14|{1, prepaid}           |1      |46          |10  |\n",
      "|2020-11-14|{2, credits_consumer}  |1      |46          |10  |\n",
      "|2020-11-03|{0, send_money}        |1      |45          |14  |\n",
      "|2020-11-03|{1, link_cobro}        |1      |45          |14  |\n",
      "|2020-11-03|{2, transport}         |1      |45          |14  |\n",
      "|2020-11-03|{3, credits_consumer}  |1      |45          |14  |\n",
      "+----------+-----------------------+-------+------------+----+\n",
      "\n"
     ]
    },
    {
     "name": "stderr",
     "output_type": "stream",
     "text": [
      "                                                                                \r"
     ]
    }
   ],
   "source": [
    "spark.sql(\"\"\"\n",
    "select x.*\n",
    "from\n",
    "(select * ,\n",
    "rank() over (partition by user_id order by week_of_year desc) rown\n",
    "from prints\n",
    "where user_id = 1) x\n",
    "\"\"\").show(truncate = False)"
   ]
  },
  {
   "cell_type": "code",
   "execution_count": 13,
   "id": "a2893a2d-5001-4ac1-9b2e-e1e25adb8a76",
   "metadata": {},
   "outputs": [
    {
     "name": "stderr",
     "output_type": "stream",
     "text": [
      "[Stage 21:>                                                         (0 + 1) / 1]\r"
     ]
    },
    {
     "name": "stdout",
     "output_type": "stream",
     "text": [
      "+-------+------------+---+\n",
      "|user_id|week_of_year|q  |\n",
      "+-------+------------+---+\n",
      "|1      |49          |4  |\n",
      "|1      |48          |3  |\n",
      "|1      |47          |2  |\n",
      "|1      |46          |4  |\n",
      "|1      |45          |4  |\n",
      "|2      |48          |3  |\n",
      "|2      |45          |2  |\n",
      "|3      |48          |3  |\n",
      "|3      |47          |3  |\n",
      "|4      |49          |2  |\n",
      "|4      |47          |4  |\n",
      "|4      |45          |3  |\n",
      "|5      |47          |2  |\n",
      "|6      |48          |3  |\n",
      "|6      |47          |2  |\n",
      "|7      |47          |7  |\n",
      "|8      |46          |3  |\n",
      "|8      |45          |3  |\n",
      "|9      |48          |1  |\n",
      "|9      |47          |4  |\n",
      "+-------+------------+---+\n",
      "only showing top 20 rows\n",
      "\n"
     ]
    },
    {
     "name": "stderr",
     "output_type": "stream",
     "text": [
      "                                                                                \r"
     ]
    }
   ],
   "source": [
    "spark.sql(\"\"\"\n",
    "select user_id\n",
    ",week_of_year\n",
    ",count(1) q\n",
    "from prints\n",
    "group by user_id\n",
    ",week_of_year\n",
    "order by user_id , week_of_year desc\n",
    "\"\"\").show(truncate = False)"
   ]
  },
  {
   "cell_type": "code",
   "execution_count": 14,
   "id": "cf7f92e3-8baa-41f4-962d-5ec733a65726",
   "metadata": {},
   "outputs": [
    {
     "name": "stderr",
     "output_type": "stream",
     "text": [
      "[Stage 24:>                                                         (0 + 1) / 1]\r"
     ]
    },
    {
     "name": "stdout",
     "output_type": "stream",
     "text": [
      "+-------+---+\n",
      "|user_id|q  |\n",
      "+-------+---+\n",
      "|35156  |27 |\n",
      "|9704   |27 |\n",
      "|61554  |26 |\n",
      "|88770  |26 |\n",
      "|30781  |25 |\n",
      "|51870  |25 |\n",
      "|5352   |25 |\n",
      "|48782  |25 |\n",
      "|64536  |24 |\n",
      "|38850  |24 |\n",
      "|33842  |24 |\n",
      "|56578  |24 |\n",
      "|59876  |24 |\n",
      "|65036  |24 |\n",
      "|41940  |24 |\n",
      "|88191  |24 |\n",
      "|20457  |24 |\n",
      "|50813  |24 |\n",
      "|95769  |24 |\n",
      "|19656  |24 |\n",
      "+-------+---+\n",
      "only showing top 20 rows\n",
      "\n"
     ]
    },
    {
     "name": "stderr",
     "output_type": "stream",
     "text": [
      "                                                                                \r"
     ]
    }
   ],
   "source": [
    "spark.sql(\"\"\"\n",
    "select user_id\n",
    ",count(1) q\n",
    "from prints\n",
    "group by user_id\n",
    "order by q desc  \n",
    "\"\"\").show(truncate = False)"
   ]
  },
  {
   "cell_type": "code",
   "execution_count": 15,
   "id": "36da2040-6312-4ce7-8baf-8572d031c946",
   "metadata": {},
   "outputs": [
    {
     "name": "stderr",
     "output_type": "stream",
     "text": [
      "[Stage 28:>                                                         (0 + 1) / 1]\r"
     ]
    },
    {
     "name": "stdout",
     "output_type": "stream",
     "text": [
      "+----------+-----------------------+-------+------------+-----+\n",
      "|day       |event_data             |user_id|week_of_year|click|\n",
      "+----------+-----------------------+-------+------------+-----+\n",
      "|2020-11-01|{0, cellphone_recharge}|3708   |44          |n    |\n",
      "|2020-11-01|{1, prepaid}           |3708   |44          |n    |\n",
      "|2020-11-01|{2, point}             |3708   |44          |y    |\n",
      "|2020-11-01|{3, send_money}        |3708   |44          |y    |\n",
      "|2020-11-09|{0, credits_consumer}  |3708   |46          |n    |\n",
      "|2020-11-13|{0, link_cobro}        |3708   |46          |n    |\n",
      "|2020-11-25|{0, link_cobro}        |3708   |48          |n    |\n",
      "|2020-11-25|{1, transport}         |3708   |48          |n    |\n",
      "+----------+-----------------------+-------+------------+-----+\n",
      "\n"
     ]
    },
    {
     "name": "stderr",
     "output_type": "stream",
     "text": [
      "                                                                                \r"
     ]
    }
   ],
   "source": [
    "spark.sql(\"\"\"\n",
    "select a.*\n",
    ",case when b.user_id is not null then \"y\" else \"n\" end click\n",
    "from prints a\n",
    "left join taps b\n",
    "on a.user_id = b.user_id\n",
    "and a.event_data = b.event_data\n",
    "and a.day = b.day\n",
    "where a.user_id = 3708\n",
    "\"\"\").show(30, truncate = False)"
   ]
  },
  {
   "cell_type": "code",
   "execution_count": 85,
   "id": "4d187073-8cbf-48a7-a04a-93aa5b55d88a",
   "metadata": {},
   "outputs": [
    {
     "name": "stderr",
     "output_type": "stream",
     "text": [
      "[Stage 203:>                                                        (0 + 1) / 1]\r"
     ]
    },
    {
     "name": "stdout",
     "output_type": "stream",
     "text": [
      "+-------+----------+\n",
      "|user_id|  max(day)|\n",
      "+-------+----------+\n",
      "|  25517|2020-11-28|\n",
      "|  97186|2020-11-15|\n",
      "|  16503|2020-11-21|\n",
      "|   5803|2020-11-29|\n",
      "|  38868|2020-11-29|\n",
      "|  73683|2020-11-15|\n",
      "|  49331|2020-11-17|\n",
      "|  38311|2020-11-27|\n",
      "|  45341|2020-11-30|\n",
      "|  80006|2020-11-28|\n",
      "+-------+----------+\n",
      "only showing top 10 rows\n",
      "\n"
     ]
    },
    {
     "name": "stderr",
     "output_type": "stream",
     "text": [
      "                                                                                \r"
     ]
    }
   ],
   "source": [
    "df_prints.groupBy(\"user_id\").agg(max(\"day\")).show(10)"
   ]
  },
  {
   "cell_type": "code",
   "execution_count": 17,
   "id": "4d448759-d3cd-4876-b196-16902ccac527",
   "metadata": {},
   "outputs": [
    {
     "name": "stdout",
     "output_type": "stream",
     "text": [
      "root\n",
      " |-- day: date (nullable = true)\n",
      " |-- event_data: struct (nullable = true)\n",
      " |    |-- position: integer (nullable = true)\n",
      " |    |-- value_prop: string (nullable = true)\n",
      " |-- user_id: integer (nullable = true)\n",
      " |-- week_of_year: integer (nullable = true)\n",
      " |-- date: long (nullable = true)\n",
      " |-- print_label: string (nullable = true)\n",
      "\n"
     ]
    }
   ],
   "source": [
    "df_prints = df_prints.withColumn(\"date\",to_timestamp(col(\"day\")).cast(\"bigint\"))\n",
    "df_prints = df_prints.withColumn(\"print_label\",(col(\"event_data.value_prop\")))\n",
    "df_prints.printSchema()"
   ]
  },
  {
   "cell_type": "code",
   "execution_count": 54,
   "id": "5457994b-0f47-4b11-90c8-6662578e3e3a",
   "metadata": {},
   "outputs": [],
   "source": [
    "from pyspark.sql.window import Window\n",
    "days = lambda i: i * 86400 ## total number of seconds per day\n",
    "window_spec = Window.partitionBy(\"a.user_id\",\"print_label\").orderBy(col(\"date\")).rangeBetween(days(-21), days(-1))"
   ]
  },
  {
   "cell_type": "code",
   "execution_count": 55,
   "id": "28db830e-0178-4ff1-8eee-e5dc1cbfb5e8",
   "metadata": {},
   "outputs": [],
   "source": [
    "df_prints = df_prints.alias(\"a\").withColumn(\"count_print_last_3_weeks\",count(\"a.user_id\").over(window_spec))"
   ]
  },
  {
   "cell_type": "code",
   "execution_count": 56,
   "id": "2da7d413-c8e9-4f80-8575-52381af22ae7",
   "metadata": {},
   "outputs": [
    {
     "name": "stderr",
     "output_type": "stream",
     "text": [
      "[Stage 38:>                                                         (0 + 1) / 1]\r"
     ]
    },
    {
     "name": "stdout",
     "output_type": "stream",
     "text": [
      "+----------+-----------------------+-------+------------+----------+------------------+------------------------+\n",
      "|day       |event_data             |user_id|week_of_year|date      |print_label       |count_print_last_3_weeks|\n",
      "+----------+-----------------------+-------+------------+----------+------------------+------------------------+\n",
      "|2020-11-01|{3, cellphone_recharge}|35156  |44          |1604206800|cellphone_recharge|0                       |\n",
      "|2020-11-11|{2, cellphone_recharge}|35156  |46          |1605070800|cellphone_recharge|1                       |\n",
      "|2020-11-14|{0, cellphone_recharge}|35156  |46          |1605330000|cellphone_recharge|2                       |\n",
      "|2020-11-01|{2, credits_consumer}  |35156  |44          |1604206800|credits_consumer  |0                       |\n",
      "|2020-11-06|{1, credits_consumer}  |35156  |45          |1604638800|credits_consumer  |1                       |\n",
      "|2020-11-13|{1, credits_consumer}  |35156  |46          |1605243600|credits_consumer  |2                       |\n",
      "|2020-11-14|{1, credits_consumer}  |35156  |46          |1605330000|credits_consumer  |3                       |\n",
      "|2020-11-29|{0, credits_consumer}  |35156  |48          |1606626000|credits_consumer  |2                       |\n",
      "|2020-11-01|{1, link_cobro}        |35156  |44          |1604206800|link_cobro        |0                       |\n",
      "|2020-11-06|{3, link_cobro}        |35156  |45          |1604638800|link_cobro        |1                       |\n",
      "|2020-11-07|{3, link_cobro}        |35156  |45          |1604725200|link_cobro        |2                       |\n",
      "|2020-11-29|{2, link_cobro}        |35156  |48          |1606626000|link_cobro        |0                       |\n",
      "|2020-11-01|{0, point}             |35156  |44          |1604206800|point             |0                       |\n",
      "|2020-11-06|{0, point}             |35156  |45          |1604638800|point             |1                       |\n",
      "|2020-11-07|{1, point}             |35156  |45          |1604725200|point             |2                       |\n",
      "|2020-11-13|{0, point}             |35156  |46          |1605243600|point             |3                       |\n",
      "|2020-11-14|{3, point}             |35156  |46          |1605330000|point             |4                       |\n",
      "|2020-11-07|{0, prepaid}           |35156  |45          |1604725200|prepaid           |0                       |\n",
      "|2020-11-11|{1, prepaid}           |35156  |46          |1605070800|prepaid           |1                       |\n",
      "|2020-11-20|{0, prepaid}           |35156  |47          |1605848400|prepaid           |2                       |\n",
      "|2020-11-06|{2, send_money}        |35156  |45          |1604638800|send_money        |0                       |\n",
      "|2020-11-07|{2, send_money}        |35156  |45          |1604725200|send_money        |1                       |\n",
      "|2020-11-11|{0, send_money}        |35156  |46          |1605070800|send_money        |2                       |\n",
      "|2020-11-14|{2, send_money}        |35156  |46          |1605330000|send_money        |3                       |\n",
      "|2020-11-20|{1, send_money}        |35156  |47          |1605848400|send_money        |4                       |\n",
      "|2020-11-29|{1, send_money}        |35156  |48          |1606626000|send_money        |3                       |\n",
      "|2020-11-13|{2, transport}         |35156  |46          |1605243600|transport         |0                       |\n",
      "+----------+-----------------------+-------+------------+----------+------------------+------------------------+\n",
      "\n"
     ]
    },
    {
     "name": "stderr",
     "output_type": "stream",
     "text": [
      "                                                                                \r"
     ]
    }
   ],
   "source": [
    "df_prints.where(col('user_id')==35156).show(40, truncate = False)"
   ]
  },
  {
   "cell_type": "code",
   "execution_count": 63,
   "id": "cfaa1ff6-7253-4bbe-86cc-371c1848b4b9",
   "metadata": {},
   "outputs": [],
   "source": [
    "df_join = df_prints.alias(\"a\").join(df_taps.alias(\"b\"), (col(\"a.user_id\") == col(\"b.user_id\")) \\\n",
    "                                    & (col(\"a.event_data\") == col(\"b.event_data\")) \\\n",
    "                                    & (col(\"a.day\") == col(\"b.day\")), \"leftouter\") \\\n",
    ".withColumn(\"clicked\", when(expr(\"b.user_id is not null\"), \"Y\").otherwise(\"N\")) \\\n",
    ".withColumn(\"count_click_last_3_weeks\",count(\"b.user_id\").over(window_spec)) \\\n",
    ".select(\"a.*\",\"clicked\",\"count_click_last_3_weeks\")"
   ]
  },
  {
   "cell_type": "code",
   "execution_count": 64,
   "id": "a9764288-5d5a-415d-aae2-51c64d6a126b",
   "metadata": {},
   "outputs": [
    {
     "name": "stderr",
     "output_type": "stream",
     "text": [
      "                                                                                \r"
     ]
    },
    {
     "name": "stdout",
     "output_type": "stream",
     "text": [
      "+----------+-----------------------+-------+------------+----------+------------------+------------------------+-------+------------------------+\n",
      "|day       |event_data             |user_id|week_of_year|date      |print_label       |count_print_last_3_weeks|clicked|count_click_last_3_weeks|\n",
      "+----------+-----------------------+-------+------------+----------+------------------+------------------------+-------+------------------------+\n",
      "|2020-11-23|{2, cellphone_recharge}|1      |48          |1606107600|cellphone_recharge|0                       |N      |0                       |\n",
      "|2020-11-30|{2, cellphone_recharge}|1      |49          |1606712400|cellphone_recharge|1                       |N      |0                       |\n",
      "|2020-11-03|{3, credits_consumer}  |1      |45          |1604379600|credits_consumer  |0                       |N      |0                       |\n",
      "|2020-11-14|{2, credits_consumer}  |1      |46          |1605330000|credits_consumer  |1                       |N      |0                       |\n",
      "|2020-11-03|{1, link_cobro}        |1      |45          |1604379600|link_cobro        |0                       |Y      |0                       |\n",
      "|2020-11-12|{0, link_cobro}        |1      |46          |1605157200|link_cobro        |1                       |N      |1                       |\n",
      "|2020-11-14|{0, link_cobro}        |1      |46          |1605330000|link_cobro        |2                       |N      |1                       |\n",
      "|2020-11-30|{3, link_cobro}        |1      |49          |1606712400|link_cobro        |2                       |N      |0                       |\n",
      "|2020-11-17|{1, point}             |1      |47          |1605589200|point             |0                       |N      |0                       |\n",
      "|2020-11-30|{1, point}             |1      |49          |1606712400|point             |1                       |N      |0                       |\n",
      "+----------+-----------------------+-------+------------+----------+------------------+------------------------+-------+------------------------+\n",
      "only showing top 10 rows\n",
      "\n"
     ]
    }
   ],
   "source": [
    "df_join.show(10, truncate = False)"
   ]
  },
  {
   "cell_type": "code",
   "execution_count": 65,
   "id": "62dc4e05-8a43-4b9a-be33-2250f4a80919",
   "metadata": {},
   "outputs": [
    {
     "name": "stderr",
     "output_type": "stream",
     "text": [
      "                                                                                \r"
     ]
    },
    {
     "data": {
      "text/plain": [
       "508617"
      ]
     },
     "execution_count": 65,
     "metadata": {},
     "output_type": "execute_result"
    }
   ],
   "source": [
    "df_join.count()"
   ]
  },
  {
   "cell_type": "code",
   "execution_count": 80,
   "id": "c07f375a-591f-4b57-8ba4-eb24bc91cd39",
   "metadata": {},
   "outputs": [],
   "source": [
    "# Defining the result dataset with proper calculations.\n",
    "dataset = df_join.join(df_pays.alias(\"c\"), (col(\"a.day\") == col(\"c.pay_date\")) \\\n",
    "                       & (col(\"a.print_label\") == col(\"c.value_prop\")) \\\n",
    "                       & (col(\"a.user_id\") == col(\"c.user_id\")), \\\n",
    "                       \"leftouter\") \\\n",
    ".withColumn(\"count_pays_last_3_weeks\", count(\"c.user_id\").over(window_spec)) \\\n",
    ".withColumn(\"sum_pays_last_3_weeks\", sum(\"c.total\").over(window_spec))"
   ]
  },
  {
   "cell_type": "code",
   "execution_count": 81,
   "id": "95b50589-ae76-4aca-aa52-532833b907ea",
   "metadata": {},
   "outputs": [
    {
     "name": "stderr",
     "output_type": "stream",
     "text": [
      "                                                                                \r"
     ]
    },
    {
     "data": {
      "text/plain": [
       "508617"
      ]
     },
     "execution_count": 81,
     "metadata": {},
     "output_type": "execute_result"
    }
   ],
   "source": [
    "dataset.count()"
   ]
  },
  {
   "cell_type": "code",
   "execution_count": 83,
   "id": "866d0853-c00c-4654-b190-8f2d92d982aa",
   "metadata": {},
   "outputs": [
    {
     "name": "stderr",
     "output_type": "stream",
     "text": [
      "[Stage 197:>                                                        (0 + 1) / 1]\r"
     ]
    },
    {
     "name": "stdout",
     "output_type": "stream",
     "text": [
      "+----------+-----------------------+-------+------------+----------+------------------+------------------------+-------+------------------------+-----------------------+---------------------+\n",
      "|day       |event_data             |user_id|week_of_year|date      |print_label       |count_print_last_3_weeks|clicked|count_click_last_3_weeks|count_pays_last_3_weeks|sum_pays_last_3_weeks|\n",
      "+----------+-----------------------+-------+------------+----------+------------------+------------------------+-------+------------------------+-----------------------+---------------------+\n",
      "|2020-11-23|{2, cellphone_recharge}|1      |48          |1606107600|cellphone_recharge|0                       |N      |0                       |0                      |0.0                  |\n",
      "|2020-11-30|{2, cellphone_recharge}|1      |49          |1606712400|cellphone_recharge|1                       |N      |0                       |0                      |0.0                  |\n",
      "|2020-11-03|{3, credits_consumer}  |1      |45          |1604379600|credits_consumer  |0                       |N      |0                       |0                      |0.0                  |\n",
      "|2020-11-14|{2, credits_consumer}  |1      |46          |1605330000|credits_consumer  |1                       |N      |0                       |0                      |0.0                  |\n",
      "|2020-11-03|{1, link_cobro}        |1      |45          |1604379600|link_cobro        |0                       |Y      |0                       |0                      |0.0                  |\n",
      "|2020-11-12|{0, link_cobro}        |1      |46          |1605157200|link_cobro        |1                       |N      |1                       |0                      |0.0                  |\n",
      "|2020-11-14|{0, link_cobro}        |1      |46          |1605330000|link_cobro        |2                       |N      |1                       |0                      |0.0                  |\n",
      "|2020-11-30|{3, link_cobro}        |1      |49          |1606712400|link_cobro        |2                       |N      |0                       |0                      |0.0                  |\n",
      "|2020-11-17|{1, point}             |1      |47          |1605589200|point             |0                       |N      |0                       |0                      |0.0                  |\n",
      "|2020-11-30|{1, point}             |1      |49          |1606712400|point             |1                       |N      |0                       |0                      |0.0                  |\n",
      "|2020-11-14|{1, prepaid}           |1      |46          |1605330000|prepaid           |0                       |N      |0                       |0                      |0.0                  |\n",
      "|2020-11-03|{0, send_money}        |1      |45          |1604379600|send_money        |0                       |N      |0                       |0                      |0.0                  |\n",
      "|2020-11-23|{0, send_money}        |1      |48          |1606107600|send_money        |1                       |N      |0                       |0                      |0.0                  |\n",
      "|2020-11-03|{2, transport}         |1      |45          |1604379600|transport         |0                       |N      |0                       |0                      |0.0                  |\n",
      "|2020-11-17|{0, transport}         |1      |47          |1605589200|transport         |1                       |N      |0                       |0                      |0.0                  |\n",
      "|2020-11-23|{1, transport}         |1      |48          |1606107600|transport         |2                       |N      |0                       |0                      |0.0                  |\n",
      "|2020-11-30|{0, transport}         |1      |49          |1606712400|transport         |2                       |N      |0                       |0                      |0.0                  |\n",
      "|2020-11-06|{1, cellphone_recharge}|2      |45          |1604638800|cellphone_recharge|0                       |N      |0                       |0                      |0.0                  |\n",
      "|2020-11-24|{0, cellphone_recharge}|2      |48          |1606194000|cellphone_recharge|1                       |N      |0                       |0                      |0.0                  |\n",
      "|2020-11-06|{0, link_cobro}        |2      |45          |1604638800|link_cobro        |0                       |N      |0                       |0                      |0.0                  |\n",
      "|2020-11-24|{1, point}             |2      |48          |1606194000|point             |0                       |N      |0                       |0                      |0.0                  |\n",
      "|2020-11-24|{2, send_money}        |2      |48          |1606194000|send_money        |0                       |N      |0                       |0                      |0.0                  |\n",
      "|2020-11-20|{2, cellphone_recharge}|3      |47          |1605848400|cellphone_recharge|0                       |N      |0                       |0                      |0.0                  |\n",
      "|2020-11-25|{0, link_cobro}        |3      |48          |1606280400|link_cobro        |0                       |N      |0                       |0                      |0.0                  |\n",
      "|2020-11-20|{1, point}             |3      |47          |1605848400|point             |0                       |Y      |0                       |0                      |0.0                  |\n",
      "|2020-11-25|{1, prepaid}           |3      |48          |1606280400|prepaid           |0                       |N      |0                       |0                      |0.0                  |\n",
      "|2020-11-25|{2, send_money}        |3      |48          |1606280400|send_money        |0                       |N      |0                       |0                      |0.0                  |\n",
      "|2020-11-20|{0, transport}         |3      |47          |1605848400|transport         |0                       |N      |0                       |0                      |0.0                  |\n",
      "|2020-11-20|{0, cellphone_recharge}|4      |47          |1605848400|cellphone_recharge|0                       |N      |0                       |0                      |0.0                  |\n",
      "|2020-11-07|{1, credits_consumer}  |4      |45          |1604725200|credits_consumer  |0                       |N      |0                       |0                      |0.0                  |\n",
      "|2020-11-20|{1, credits_consumer}  |4      |47          |1605848400|credits_consumer  |1                       |N      |0                       |0                      |0.0                  |\n",
      "|2020-11-07|{0, link_cobro}        |4      |45          |1604725200|link_cobro        |0                       |N      |0                       |0                      |0.0                  |\n",
      "|2020-11-20|{3, link_cobro}        |4      |47          |1605848400|link_cobro        |1                       |Y      |0                       |0                      |0.0                  |\n",
      "|2020-11-30|{1, link_cobro}        |4      |49          |1606712400|link_cobro        |1                       |N      |1                       |0                      |0.0                  |\n",
      "|2020-11-20|{2, prepaid}           |4      |47          |1605848400|prepaid           |0                       |N      |0                       |0                      |0.0                  |\n",
      "|2020-11-30|{0, prepaid}           |4      |49          |1606712400|prepaid           |1                       |Y      |0                       |0                      |0.0                  |\n",
      "|2020-11-07|{2, send_money}        |4      |45          |1604725200|send_money        |0                       |N      |0                       |0                      |0.0                  |\n",
      "|2020-11-21|{1, point}             |5      |47          |1605934800|point             |0                       |N      |0                       |0                      |0.0                  |\n",
      "|2020-11-21|{0, transport}         |5      |47          |1605934800|transport         |0                       |N      |0                       |0                      |0.0                  |\n",
      "|2020-11-22|{1, cellphone_recharge}|6      |47          |1606021200|cellphone_recharge|0                       |N      |0                       |0                      |0.0                  |\n",
      "|2020-11-26|{2, cellphone_recharge}|6      |48          |1606366800|cellphone_recharge|1                       |N      |0                       |0                      |0.0                  |\n",
      "|2020-11-22|{0, link_cobro}        |6      |47          |1606021200|link_cobro        |0                       |N      |0                       |0                      |0.0                  |\n",
      "|2020-11-26|{1, prepaid}           |6      |48          |1606366800|prepaid           |0                       |N      |0                       |0                      |0.0                  |\n",
      "|2020-11-26|{0, send_money}        |6      |48          |1606366800|send_money        |0                       |N      |0                       |0                      |0.0                  |\n",
      "|2020-11-17|{1, cellphone_recharge}|7      |47          |1605589200|cellphone_recharge|0                       |N      |0                       |0                      |0.0                  |\n",
      "|2020-11-19|{1, credits_consumer}  |7      |47          |1605762000|credits_consumer  |0                       |N      |0                       |0                      |0.0                  |\n",
      "|2020-11-17|{0, link_cobro}        |7      |47          |1605589200|link_cobro        |0                       |N      |0                       |0                      |0.0                  |\n",
      "|2020-11-19|{2, link_cobro}        |7      |47          |1605762000|link_cobro        |1                       |N      |0                       |0                      |0.0                  |\n",
      "|2020-11-17|{2, prepaid}           |7      |47          |1605589200|prepaid           |0                       |N      |0                       |0                      |0.0                  |\n",
      "|2020-11-19|{0, prepaid}           |7      |47          |1605762000|prepaid           |1                       |N      |0                       |0                      |0.0                  |\n",
      "|2020-11-19|{3, send_money}        |7      |47          |1605762000|send_money        |0                       |Y      |0                       |0                      |0.0                  |\n",
      "|2020-11-13|{1, cellphone_recharge}|8      |46          |1605243600|cellphone_recharge|0                       |N      |0                       |0                      |0.0                  |\n",
      "|2020-11-13|{2, point}             |8      |46          |1605243600|point             |0                       |N      |0                       |0                      |0.0                  |\n",
      "|2020-11-06|{0, prepaid}           |8      |45          |1604638800|prepaid           |0                       |N      |0                       |0                      |0.0                  |\n",
      "|2020-11-06|{2, send_money}        |8      |45          |1604638800|send_money        |0                       |N      |0                       |0                      |0.0                  |\n",
      "|2020-11-13|{0, send_money}        |8      |46          |1605243600|send_money        |1                       |N      |0                       |0                      |0.0                  |\n",
      "|2020-11-06|{1, transport}         |8      |45          |1604638800|transport         |0                       |N      |0                       |0                      |0.0                  |\n",
      "|2020-11-21|{0, credits_consumer}  |9      |47          |1605934800|credits_consumer  |0                       |N      |0                       |0                      |0.0                  |\n",
      "|2020-11-10|{0, link_cobro}        |9      |46          |1604984400|link_cobro        |0                       |N      |0                       |0                      |0.0                  |\n",
      "|2020-11-28|{0, point}             |9      |48          |1606539600|point             |0                       |N      |0                       |0                      |0.0                  |\n",
      "|2020-11-19|{1, prepaid}           |9      |47          |1605762000|prepaid           |0                       |N      |0                       |0                      |0.0                  |\n",
      "|2020-11-19|{0, send_money}        |9      |47          |1605762000|send_money        |0                       |N      |0                       |0                      |0.0                  |\n",
      "|2020-11-21|{1, send_money}        |9      |47          |1605934800|send_money        |1                       |N      |0                       |0                      |0.0                  |\n",
      "|2020-11-26|{0, cellphone_recharge}|11     |48          |1606366800|cellphone_recharge|0                       |N      |0                       |0                      |0.0                  |\n",
      "|2020-11-06|{0, credits_consumer}  |11     |45          |1604638800|credits_consumer  |0                       |N      |0                       |0                      |0.0                  |\n",
      "|2020-11-26|{3, prepaid}           |11     |48          |1606366800|prepaid           |0                       |N      |0                       |0                      |0.0                  |\n",
      "|2020-11-26|{2, send_money}        |11     |48          |1606366800|send_money        |0                       |N      |0                       |0                      |0.0                  |\n",
      "|2020-11-06|{1, transport}         |11     |45          |1604638800|transport         |0                       |N      |0                       |0                      |0.0                  |\n",
      "|2020-11-26|{1, transport}         |11     |48          |1606366800|transport         |1                       |N      |0                       |0                      |0.0                  |\n",
      "|2020-11-25|{0, cellphone_recharge}|12     |48          |1606280400|cellphone_recharge|0                       |N      |0                       |0                      |0.0                  |\n",
      "|2020-11-28|{2, cellphone_recharge}|12     |48          |1606539600|cellphone_recharge|1                       |N      |0                       |0                      |0.0                  |\n",
      "|2020-11-22|{1, credits_consumer}  |12     |47          |1606021200|credits_consumer  |0                       |N      |0                       |0                      |0.0                  |\n",
      "|2020-11-28|{0, credits_consumer}  |12     |48          |1606539600|credits_consumer  |1                       |N      |0                       |0                      |0.0                  |\n",
      "|2020-11-04|{0, link_cobro}        |12     |45          |1604466000|link_cobro        |0                       |N      |0                       |0                      |0.0                  |\n",
      "|2020-11-22|{2, link_cobro}        |12     |47          |1606021200|link_cobro        |1                       |Y      |0                       |0                      |0.0                  |\n",
      "|2020-11-04|{1, point}             |12     |45          |1604466000|point             |0                       |N      |0                       |0                      |0.0                  |\n",
      "|2020-11-15|{0, point}             |12     |46          |1605416400|point             |1                       |N      |0                       |0                      |0.0                  |\n",
      "|2020-11-22|{0, point}             |12     |47          |1606021200|point             |2                       |Y      |0                       |0                      |0.0                  |\n",
      "|2020-11-28|{3, point}             |12     |48          |1606539600|point             |2                       |N      |1                       |0                      |0.0                  |\n",
      "|2020-11-04|{3, prepaid}           |12     |45          |1604466000|prepaid           |0                       |N      |0                       |0                      |0.0                  |\n",
      "|2020-11-28|{1, prepaid}           |12     |48          |1606539600|prepaid           |0                       |N      |0                       |0                      |0.0                  |\n",
      "|2020-11-04|{2, send_money}        |12     |45          |1604466000|send_money        |0                       |N      |0                       |0                      |0.0                  |\n",
      "|2020-11-15|{1, transport}         |12     |46          |1605416400|transport         |0                       |N      |0                       |0                      |0.0                  |\n",
      "|2020-11-25|{1, transport}         |12     |48          |1606280400|transport         |1                       |N      |0                       |0                      |0.0                  |\n",
      "|2020-11-06|{0, cellphone_recharge}|13     |45          |1604638800|cellphone_recharge|0                       |N      |0                       |0                      |0.0                  |\n",
      "|2020-11-12|{3, cellphone_recharge}|13     |46          |1605157200|cellphone_recharge|1                       |N      |0                       |0                      |0.0                  |\n",
      "|2020-11-12|{1, credits_consumer}  |13     |46          |1605157200|credits_consumer  |0                       |N      |0                       |0                      |0.0                  |\n",
      "|2020-11-06|{1, link_cobro}        |13     |45          |1604638800|link_cobro        |0                       |N      |0                       |0                      |0.0                  |\n",
      "|2020-11-12|{2, point}             |13     |46          |1605157200|point             |0                       |N      |0                       |0                      |0.0                  |\n",
      "|2020-11-12|{0, transport}         |13     |46          |1605157200|transport         |0                       |N      |0                       |0                      |0.0                  |\n",
      "|2020-11-19|{1, cellphone_recharge}|14     |47          |1605762000|cellphone_recharge|0                       |N      |0                       |0                      |0.0                  |\n",
      "|2020-11-19|{3, link_cobro}        |14     |47          |1605762000|link_cobro        |0                       |N      |0                       |0                      |0.0                  |\n",
      "|2020-11-19|{2, point}             |14     |47          |1605762000|point             |0                       |N      |0                       |0                      |0.0                  |\n",
      "|2020-11-19|{0, send_money}        |14     |47          |1605762000|send_money        |0                       |N      |0                       |0                      |0.0                  |\n",
      "|2020-11-19|{1, cellphone_recharge}|15     |47          |1605762000|cellphone_recharge|0                       |N      |0                       |0                      |0.0                  |\n",
      "|2020-11-23|{3, cellphone_recharge}|15     |48          |1606107600|cellphone_recharge|1                       |N      |0                       |0                      |0.0                  |\n",
      "|2020-11-24|{2, cellphone_recharge}|15     |48          |1606194000|cellphone_recharge|2                       |N      |0                       |0                      |0.0                  |\n",
      "|2020-11-23|{1, credits_consumer}  |15     |48          |1606107600|credits_consumer  |0                       |N      |0                       |0                      |0.0                  |\n",
      "|2020-11-23|{0, link_cobro}        |15     |48          |1606107600|link_cobro        |0                       |N      |0                       |0                      |0.0                  |\n",
      "|2020-11-24|{1, link_cobro}        |15     |48          |1606194000|link_cobro        |1                       |Y      |0                       |0                      |0.0                  |\n",
      "+----------+-----------------------+-------+------------+----------+------------------+------------------------+-------+------------------------+-----------------------+---------------------+\n",
      "only showing top 100 rows\n",
      "\n"
     ]
    },
    {
     "name": "stderr",
     "output_type": "stream",
     "text": [
      "                                                                                \r"
     ]
    }
   ],
   "source": [
    "# Retrieving results\n",
    "dataset.select(\"a.*\",\"clicked\",\"count_click_last_3_weeks\",\"count_pays_last_3_weeks\",\"sum_pays_last_3_weeks\").na.fill(0).show(100, truncate = False)"
   ]
  },
  {
   "cell_type": "code",
   "execution_count": null,
   "id": "57866298-adeb-4e88-8f7f-7c18800c7a93",
   "metadata": {},
   "outputs": [],
   "source": []
  }
 ],
 "metadata": {
  "kernelspec": {
   "display_name": "Python 3 (ipykernel)",
   "language": "python",
   "name": "python3"
  },
  "language_info": {
   "codemirror_mode": {
    "name": "ipython",
    "version": 3
   },
   "file_extension": ".py",
   "mimetype": "text/x-python",
   "name": "python",
   "nbconvert_exporter": "python",
   "pygments_lexer": "ipython3",
   "version": "3.10.6"
  }
 },
 "nbformat": 4,
 "nbformat_minor": 5
}
